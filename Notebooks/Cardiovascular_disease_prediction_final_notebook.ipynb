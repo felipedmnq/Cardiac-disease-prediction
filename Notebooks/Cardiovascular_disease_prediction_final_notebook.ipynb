{
 "cells": [
  {
   "cell_type": "markdown",
   "id": "streaming-transportation",
   "metadata": {},
   "source": [
    "# Cardiovascular Desease Prediction Project.\n",
    "\n",
    "This project is for education purposes. here I will exercise skills in machine learning, more precisely classification algorithms.\n",
    "\n",
    "[data source: Kaggle](https://www.kaggle.com/sulianova/cardiovascular-disease-dataset/code)\n",
    "\n",
    "\n",
    "**Data Description:**\n",
    "\n",
    "There are 3 types of input features:\n",
    "\n",
    "* Objective: factual information;\n",
    "* Examination: results of medical examination;\n",
    "* Subjective: information given by the patient.\n",
    "\n",
    "Features:\n",
    "\n",
    "* Age | Objective Feature | age | int (days)\n",
    "* Height | Objective Feature | height | int (cm) |\n",
    "* Weight | Objective Feature | weight | float (kg) |\n",
    "* Gender | Objective Feature | gender | categorical code | 1 - women, 2 - men |\n",
    "* Systolic blood pressure | Examination Feature | ap_hi | int |\n",
    "* Diastolic blood pressure | Examination Feature | ap_lo | int |\n",
    "* Cholesterol | Examination Feature | cholesterol | 1: normal, 2: above normal, 3: well above normal |\n",
    "* Glucose | Examination Feature | gluc | 1: normal, 2: above normal, 3: well above normal |\n",
    "* Smoking | Subjective Feature | smoke | binary | 0: no, 1: yes |\n",
    "* Alcohol intake | Subjective Feature | alco | binary | 0: no, 1: yes |\n",
    "* Physical activity | Subjective Feature | active | binary | 0: no, 1: yes |\n",
    "* Presence or absence of cardiovascular disease | Target Variable | cardio | binary | 0: no, 1: yes |\n",
    "\n",
    "All of the dataset values were collected at the moment of medical examination.\n",
    "\n",
    "\n",
    "**Created Features:**\n",
    "\n",
    "* BMI - Body mass index | 0: Underweight, 1: Normal, 2: Overweight, 3: Obesity 1, 4: Obesity 2, 5: Morbid obesity\n",
    "* cat_blood_pressure | 0: Normal, 1: Elevated, 2: Hypertension 1, 3: Hypertension 2, 4: Hypertension 3.\n",
    "* cat_weight | 0: underweight, 1: normal, 2: elevated, 3: overweight, 4: obesity, 5: morbid obesity."
   ]
  },
  {
   "cell_type": "markdown",
   "id": "royal-objective",
   "metadata": {},
   "source": [
    "# Imports"
   ]
  },
  {
   "cell_type": "code",
   "execution_count": 1,
   "id": "mineral-orlando",
   "metadata": {
    "ExecuteTime": {
     "end_time": "2021-03-20T19:13:05.838800Z",
     "start_time": "2021-03-20T19:13:05.782837Z"
    },
    "execution": {
     "iopub.execute_input": "2021-03-25T16:07:54.676012Z",
     "iopub.status.busy": "2021-03-25T16:07:54.674015Z",
     "iopub.status.idle": "2021-03-25T16:07:58.146487Z",
     "shell.execute_reply": "2021-03-25T16:07:58.138493Z",
     "shell.execute_reply.started": "2021-03-25T16:07:54.676012Z"
    }
   },
   "outputs": [
    {
     "ename": "ModuleNotFoundError",
     "evalue": "No module named 'xgboost'",
     "output_type": "error",
     "traceback": [
      "\u001b[1;31m---------------------------------------------------------------------------\u001b[0m",
      "\u001b[1;31mModuleNotFoundError\u001b[0m                       Traceback (most recent call last)",
      "\u001b[1;32m<ipython-input-1-3c71db72819e>\u001b[0m in \u001b[0;36m<module>\u001b[1;34m\u001b[0m\n\u001b[0;32m      5\u001b[0m \u001b[1;32mimport\u001b[0m \u001b[0mpandas\u001b[0m \u001b[1;32mas\u001b[0m \u001b[0mpd\u001b[0m\u001b[1;33m\u001b[0m\u001b[1;33m\u001b[0m\u001b[0m\n\u001b[0;32m      6\u001b[0m \u001b[1;32mimport\u001b[0m \u001b[0mseaborn\u001b[0m \u001b[1;32mas\u001b[0m \u001b[0msns\u001b[0m\u001b[1;33m\u001b[0m\u001b[1;33m\u001b[0m\u001b[0m\n\u001b[1;32m----> 7\u001b[1;33m \u001b[1;32mimport\u001b[0m \u001b[0mxgboost\u001b[0m \u001b[1;32mas\u001b[0m \u001b[0mxgb\u001b[0m\u001b[1;33m\u001b[0m\u001b[1;33m\u001b[0m\u001b[0m\n\u001b[0m\u001b[0;32m      8\u001b[0m \u001b[1;32mimport\u001b[0m \u001b[0mmatplotlib\u001b[0m\u001b[1;33m.\u001b[0m\u001b[0mpyplot\u001b[0m \u001b[1;32mas\u001b[0m \u001b[0mplt\u001b[0m\u001b[1;33m\u001b[0m\u001b[1;33m\u001b[0m\u001b[0m\n\u001b[0;32m      9\u001b[0m \u001b[1;33m\u001b[0m\u001b[0m\n",
      "\u001b[1;31mModuleNotFoundError\u001b[0m: No module named 'xgboost'"
     ]
    }
   ],
   "source": [
    "import random\n",
    "import pickle\n",
    "import warnings\n",
    "import numpy as np\n",
    "import pandas as pd\n",
    "import seaborn as sns\n",
    "import xgboost as xgb\n",
    "import matplotlib.pyplot as plt\n",
    "\n",
    "from lightgbm import LGBMClassifier\n",
    "from sklearn.neighbors import KNeighborsClassifier\n",
    "from sklearn.ensemble import RandomForestClassifier\n",
    "from sklearn.model_selection import cross_val_score\n",
    "from sklearn.preprocessing import MinMaxScaler, RobustScaler\n",
    "from sklearn.model_selection import train_test_split, RandomizedSearchCV\n",
    "from sklearn.metrics import classification_report, accuracy_score, recall_score\n",
    "from sklearn.metrics import precision_score, f1_score, cohen_kappa_score,balanced_accuracy_score\n",
    "\n",
    "warnings.filterwarnings('ignore')"
   ]
  },
  {
   "cell_type": "markdown",
   "id": "stopped-depth",
   "metadata": {},
   "source": [
    "# Helper Functions"
   ]
  },
  {
   "cell_type": "code",
   "execution_count": null,
   "id": "metallic-provider",
   "metadata": {
    "ExecuteTime": {
     "end_time": "2021-03-19T23:09:24.488290Z",
     "start_time": "2021-03-19T23:09:24.435323Z"
    },
    "execution": {
     "iopub.status.busy": "2021-03-25T16:07:58.151486Z",
     "iopub.status.idle": "2021-03-25T16:07:58.152485Z"
    }
   },
   "outputs": [],
   "source": [
    "SEED = 43\n",
    "\n",
    "%matplotlib inline\n",
    "%pylab inline\n",
    "\n",
    "plt.style.use('bmh')\n",
    "plt.rcParams['figure.figsize'] = [16, 8]\n",
    "plt.rcParams['font.size'] = 18\n",
    "\n",
    "pd.options.display.max_columns = None\n",
    "pd.options.display.max_rows = None\n",
    "pd.set_option('display.expand_frame_repr', False)\n",
    "\n",
    "sns.set()\n",
    "\n",
    "\n",
    "# Function to categorize BMI feature\n",
    "def cat_bmi(bmi):\n",
    "    if bmi >= 17 and bmi < 18.5:\n",
    "        return int(0) # 0: underweight\n",
    "    elif bmi >= 18.5 and bmi < 25:\n",
    "        return int(1) # 1: normal\n",
    "    elif bmi >= 25 and bmi < 30:\n",
    "        return int(2) # 2: elevated\n",
    "    elif bmi >= 30 and bmi < 35:\n",
    "        return int(3) # 3: overweight\n",
    "    elif bmi >= 35 and bmi < 40:\n",
    "        return int(4) # 4: obesity\n",
    "    else:\n",
    "        return int(5) # 5: morbid obesity\n",
    "\n",
    "    \n",
    "# Function to annotate bar vaues in the graphs.\n",
    "def annot_plot(plot):\n",
    "    for p in plot.patches:\n",
    "        plot.annotate(format(int(p.get_height())), \n",
    "                       (p.get_x() + p.get_width() / 2., p.get_height()), \n",
    "                       ha = 'center', va = 'center', \n",
    "                       xytext = (0, 9), \n",
    "                       textcoords = 'offset points',\n",
    "                       fontsize = 14)\n",
    "    return None"
   ]
  },
  {
   "cell_type": "markdown",
   "id": "ideal-settle",
   "metadata": {},
   "source": [
    "# Load Data"
   ]
  },
  {
   "cell_type": "code",
   "execution_count": null,
   "id": "listed-switch",
   "metadata": {
    "ExecuteTime": {
     "end_time": "2021-03-19T23:09:24.719149Z",
     "start_time": "2021-03-19T23:09:24.497285Z"
    },
    "execution": {
     "iopub.status.busy": "2021-03-25T16:07:58.154482Z",
     "iopub.status.idle": "2021-03-25T16:07:58.154482Z"
    }
   },
   "outputs": [],
   "source": [
    "df1 = pd.read_csv('C:\\\\Users\\\\felip\\\\repos\\\\cardio\\\\Cardiovascular-disease-prediction\\\\data\\\\cardio_train.csv',\n",
    "                 sep = ';', \n",
    "                 index_col = 'id')\n",
    "df1.head()"
   ]
  },
  {
   "cell_type": "markdown",
   "id": "negative-blowing",
   "metadata": {},
   "source": [
    "## Data Description"
   ]
  },
  {
   "cell_type": "code",
   "execution_count": null,
   "id": "distinguished-glenn",
   "metadata": {
    "ExecuteTime": {
     "end_time": "2021-03-19T23:09:24.736137Z",
     "start_time": "2021-03-19T23:09:24.724145Z"
    },
    "execution": {
     "iopub.status.busy": "2021-03-25T16:07:58.156484Z",
     "iopub.status.idle": "2021-03-25T16:07:58.156484Z"
    },
    "scrolled": true
   },
   "outputs": [],
   "source": [
    "df1.dtypes"
   ]
  },
  {
   "cell_type": "code",
   "execution_count": null,
   "id": "waiting-surgery",
   "metadata": {
    "ExecuteTime": {
     "end_time": "2021-03-19T23:09:24.753128Z",
     "start_time": "2021-03-19T23:09:24.740134Z"
    },
    "execution": {
     "iopub.status.busy": "2021-03-25T16:07:58.158483Z",
     "iopub.status.idle": "2021-03-25T16:07:58.159480Z"
    }
   },
   "outputs": [],
   "source": [
    "# Cheking for NAN data.\n",
    "\n",
    "df1.isnull().sum().sum()"
   ]
  },
  {
   "cell_type": "code",
   "execution_count": null,
   "id": "noble-basis",
   "metadata": {
    "ExecuteTime": {
     "end_time": "2021-03-19T23:09:24.924024Z",
     "start_time": "2021-03-19T23:09:24.757124Z"
    },
    "execution": {
     "iopub.status.busy": "2021-03-25T16:07:58.160479Z",
     "iopub.status.idle": "2021-03-25T16:07:58.161478Z"
    }
   },
   "outputs": [],
   "source": [
    "df1.describe().T"
   ]
  },
  {
   "cell_type": "code",
   "execution_count": null,
   "id": "minus-summary",
   "metadata": {
    "ExecuteTime": {
     "end_time": "2021-03-19T23:09:24.934016Z",
     "start_time": "2021-03-19T23:09:24.927022Z"
    },
    "execution": {
     "iopub.status.busy": "2021-03-25T16:07:58.162478Z",
     "iopub.status.idle": "2021-03-25T16:07:58.163481Z"
    }
   },
   "outputs": [],
   "source": [
    "df1.shape"
   ]
  },
  {
   "cell_type": "markdown",
   "id": "academic-heath",
   "metadata": {},
   "source": [
    "# Data Cleaning"
   ]
  },
  {
   "cell_type": "markdown",
   "id": "rotary-slave",
   "metadata": {
    "ExecuteTime": {
     "end_time": "2021-03-10T22:23:25.274141Z",
     "start_time": "2021-03-10T22:23:25.264147Z"
    }
   },
   "source": [
    "## Data Questions Based on Data Features Describe."
   ]
  },
  {
   "cell_type": "markdown",
   "id": "ongoing-assault",
   "metadata": {},
   "source": [
    "**Height:** The minimum height is 55cm and the maximum is 250 cm. Is that right? There are patients with nanism or gigantism in the dataset?"
   ]
  },
  {
   "cell_type": "code",
   "execution_count": null,
   "id": "structural-values",
   "metadata": {
    "ExecuteTime": {
     "end_time": "2021-03-19T23:09:24.958002Z",
     "start_time": "2021-03-19T23:09:24.941011Z"
    },
    "execution": {
     "iopub.status.busy": "2021-03-25T16:07:58.164477Z",
     "iopub.status.idle": "2021-03-25T16:07:58.165476Z"
    }
   },
   "outputs": [],
   "source": [
    "# Checking if there are many height outliers and the impact of it on the entire dataset.\n",
    "\n",
    "shorter = len(df1[df1[\"height\"] < 130])\n",
    "bigger = len(df1[df1[\"height\"] > 210])\n",
    "\n",
    "print(f'There are {shorter} patients with height under 130cm'\n",
    "      f' and {bigger} patient bigger than 210cm.'\n",
    "      f'\\nIt corresponds to {round((bigger + shorter) * 100 / len(df1), 2)}% of the dataset.')"
   ]
  },
  {
   "cell_type": "code",
   "execution_count": null,
   "id": "handy-collector",
   "metadata": {
    "ExecuteTime": {
     "end_time": "2021-03-19T23:09:24.997976Z",
     "start_time": "2021-03-19T23:09:24.961999Z"
    },
    "execution": {
     "iopub.status.busy": "2021-03-25T16:07:58.167476Z",
     "iopub.status.idle": "2021-03-25T16:07:58.168476Z"
    }
   },
   "outputs": [],
   "source": [
    "# The patients under 130cm and bigger than 210cm will be excluded from dataset.\n",
    "\n",
    "df2 = df1[df1[\"height\"] >= 130]\n",
    "df2 = df2[df2[\"height\"] <= 210]"
   ]
  },
  {
   "cell_type": "markdown",
   "id": "waiting-fruit",
   "metadata": {},
   "source": [
    "**Weight:** The minimum weight is 10kg and the maximum is 200kg. Is that right?patients with just 10kg?"
   ]
  },
  {
   "attachments": {
    "Body-Mass-Index.jpg": {
     "image/jpeg": "[encoded data removed]"
    }
   },
   "cell_type": "markdown",
   "id": "joined-honey",
   "metadata": {},
   "source": [
    "![Body-Mass-Index.jpg](attachment:Body-Mass-Index.jpg)"
   ]
  },
  {
   "cell_type": "code",
   "execution_count": null,
   "id": "planned-tattoo",
   "metadata": {
    "ExecuteTime": {
     "end_time": "2021-03-19T23:09:25.009969Z",
     "start_time": "2021-03-19T23:09:25.000978Z"
    },
    "execution": {
     "iopub.status.busy": "2021-03-25T16:07:58.169476Z",
     "iopub.status.idle": "2021-03-25T16:07:58.170475Z"
    }
   },
   "outputs": [],
   "source": [
    "# Checking for outliers in the weight feature.\n",
    "\n",
    "thinner = len(df2[df2['weight'] < 40])\n",
    "print(f'There are {thinner} patients with weight under 40kg.')"
   ]
  },
  {
   "cell_type": "code",
   "execution_count": null,
   "id": "unexpected-georgia",
   "metadata": {
    "ExecuteTime": {
     "end_time": "2021-03-19T23:09:25.049944Z",
     "start_time": "2021-03-19T23:09:25.012967Z"
    },
    "execution": {
     "iopub.status.busy": "2021-03-25T16:07:58.171474Z",
     "iopub.status.idle": "2021-03-25T16:07:58.172474Z"
    }
   },
   "outputs": [],
   "source": [
    "# Excluding patients with less than 40kg.\n",
    "\n",
    "df2 = df2[df2['weight'] > 40]"
   ]
  },
  {
   "attachments": {
    "blood%20pressure%20readings%20chart.jpg": {
     "image/jpeg": "[encoded data removed]"
    }
   },
   "cell_type": "markdown",
   "id": "roman-doctor",
   "metadata": {},
   "source": [
    "**Blood pressure:** There are blood pressures with negative values, is that possible?\n",
    "\n",
    "- After some research I saw that it is possible to a blood pressure be negative, but in order to the low impact on the dataset, we decided to exclude them.\n",
    "\n",
    "\n",
    "\n",
    "![blood%20pressure%20readings%20chart.jpg](attachment:blood%20pressure%20readings%20chart.jpg)\n",
    "\n"
   ]
  },
  {
   "cell_type": "code",
   "execution_count": null,
   "id": "material-suffering",
   "metadata": {
    "ExecuteTime": {
     "end_time": "2021-03-19T23:09:25.063934Z",
     "start_time": "2021-03-19T23:09:25.052943Z"
    },
    "execution": {
     "iopub.status.busy": "2021-03-25T16:07:58.173471Z",
     "iopub.status.idle": "2021-03-25T16:07:58.174470Z"
    }
   },
   "outputs": [],
   "source": [
    "# Looking for negative blood pressure values.\n",
    "\n",
    "negative_ap_hi = len(df2[df2['ap_hi'] < 0])\n",
    "negative_ap_lo = len(df2[df2['ap_lo'] < 0])\n",
    "\n",
    "print(f'There are {negative_ap_hi} cases of negative ap_hi and {negative_ap_lo} cases of negative ap_lo')"
   ]
  },
  {
   "cell_type": "code",
   "execution_count": null,
   "id": "needed-revelation",
   "metadata": {
    "ExecuteTime": {
     "end_time": "2021-03-19T23:09:25.145886Z",
     "start_time": "2021-03-19T23:09:25.066934Z"
    },
    "execution": {
     "iopub.status.busy": "2021-03-25T16:07:58.175470Z",
     "iopub.status.idle": "2021-03-25T16:07:58.176469Z"
    }
   },
   "outputs": [],
   "source": [
    "# The negative blood pressure cases and to low or to high will be excluded.\n",
    "\n",
    "df2 = (df2[df2['ap_hi'] > 50])\n",
    "df2 = (df2[df2['ap_hi'] < 220])\n",
    "df2 = (df2[df2['ap_lo'] > 50])\n",
    "df2 = (df2[df2['ap_lo'] < 180])"
   ]
  },
  {
   "cell_type": "code",
   "execution_count": null,
   "id": "mental-provision",
   "metadata": {
    "ExecuteTime": {
     "end_time": "2021-03-19T23:09:25.206847Z",
     "start_time": "2021-03-19T23:09:25.147885Z"
    },
    "execution": {
     "iopub.status.busy": "2021-03-25T16:07:58.177469Z",
     "iopub.status.idle": "2021-03-25T16:07:58.178468Z"
    }
   },
   "outputs": [],
   "source": [
    "# Transforming age from days to years\n",
    "df2['age'] = df2['age'].apply(lambda x: int(x/365))"
   ]
  },
  {
   "cell_type": "code",
   "execution_count": null,
   "id": "fixed-employer",
   "metadata": {
    "ExecuteTime": {
     "end_time": "2021-03-19T23:09:25.215841Z",
     "start_time": "2021-03-19T23:09:25.209847Z"
    },
    "execution": {
     "iopub.status.busy": "2021-03-25T16:07:58.180467Z",
     "iopub.status.idle": "2021-03-25T16:07:58.180467Z"
    }
   },
   "outputs": [],
   "source": [
    "print(f'After the data cleaning ware excluded from the original dataset {df1.shape[0] - df2.shape[0]} rows.')"
   ]
  },
  {
   "cell_type": "code",
   "execution_count": null,
   "id": "personalized-farming",
   "metadata": {
    "ExecuteTime": {
     "end_time": "2021-03-19T23:09:25.227834Z",
     "start_time": "2021-03-19T23:09:25.218841Z"
    },
    "execution": {
     "iopub.status.busy": "2021-03-25T16:07:58.182466Z",
     "iopub.status.idle": "2021-03-25T16:07:58.183465Z"
    }
   },
   "outputs": [],
   "source": [
    "df2.shape"
   ]
  },
  {
   "cell_type": "code",
   "execution_count": null,
   "id": "cooked-petersburg",
   "metadata": {
    "ExecuteTime": {
     "end_time": "2021-03-19T23:09:25.416718Z",
     "start_time": "2021-03-19T23:09:25.230833Z"
    },
    "execution": {
     "iopub.status.busy": "2021-03-25T16:07:58.185464Z",
     "iopub.status.idle": "2021-03-25T16:07:58.186463Z"
    },
    "scrolled": true
   },
   "outputs": [],
   "source": [
    "df2.describe().T "
   ]
  },
  {
   "cell_type": "markdown",
   "id": "elect-idaho",
   "metadata": {
    "ExecuteTime": {
     "end_time": "2021-03-10T22:20:35.418615Z",
     "start_time": "2021-03-10T22:20:35.375643Z"
    }
   },
   "source": [
    "# Feature Enginnering"
   ]
  },
  {
   "cell_type": "code",
   "execution_count": null,
   "id": "loaded-citizen",
   "metadata": {
    "ExecuteTime": {
     "end_time": "2021-03-19T23:09:25.430710Z",
     "start_time": "2021-03-19T23:09:25.419717Z"
    },
    "execution": {
     "iopub.status.busy": "2021-03-25T16:07:58.187463Z",
     "iopub.status.idle": "2021-03-25T16:07:58.188463Z"
    }
   },
   "outputs": [],
   "source": [
    "df3 = df2.copy()"
   ]
  },
  {
   "cell_type": "code",
   "execution_count": null,
   "id": "valuable-peace",
   "metadata": {
    "ExecuteTime": {
     "end_time": "2021-03-19T23:09:29.056567Z",
     "start_time": "2021-03-19T23:09:25.433708Z"
    },
    "execution": {
     "iopub.status.busy": "2021-03-25T16:07:58.190461Z",
     "iopub.status.idle": "2021-03-25T16:07:58.190461Z"
    }
   },
   "outputs": [],
   "source": [
    "# Creating BMI Feature\n",
    "df3['bmi'] = (df3['weight']/((df3['height']/100)**2)).round(2)\n",
    "\n",
    "# Categorizing BMI\n",
    "df3['cat_weight'] = df3['bmi'].apply(cat_bmi)\n",
    "\n",
    "# Categorizing Blood Pressure\n",
    "df3['cat_blood_pressure'] = df3.apply(lambda x: 0 if x['ap_hi'] < 120 and x['ap_lo'] < 80 else\n",
    "                                      1 if 120 <= x['ap_hi'] < 130 and x['ap_lo'] < 80 else\n",
    "                                      2 if 130 <= x['ap_hi'] < 140 or 80 <= x['ap_lo'] < 90 else\n",
    "                                      3 if 140 <= x['ap_hi'] <= 180 or 90 <= x['ap_lo'] <= 120\n",
    "                                      else 4, axis  =1)"
   ]
  },
  {
   "cell_type": "code",
   "execution_count": null,
   "id": "organized-snowboard",
   "metadata": {
    "ExecuteTime": {
     "end_time": "2021-03-19T23:09:29.079551Z",
     "start_time": "2021-03-19T23:09:29.058565Z"
    },
    "execution": {
     "iopub.status.busy": "2021-03-25T16:07:58.192461Z",
     "iopub.status.idle": "2021-03-25T16:07:58.193460Z"
    },
    "scrolled": true
   },
   "outputs": [],
   "source": [
    "df3.reset_index('id', inplace = True, drop = True)\n",
    "df3.head()"
   ]
  },
  {
   "cell_type": "code",
   "execution_count": null,
   "id": "induced-space",
   "metadata": {
    "ExecuteTime": {
     "end_time": "2021-03-19T23:09:29.211470Z",
     "start_time": "2021-03-19T23:09:29.082551Z"
    },
    "execution": {
     "iopub.status.busy": "2021-03-25T16:07:58.194458Z",
     "iopub.status.idle": "2021-03-25T16:07:58.195460Z"
    },
    "scrolled": true
   },
   "outputs": [],
   "source": [
    "df3.describe().T"
   ]
  },
  {
   "cell_type": "code",
   "execution_count": null,
   "id": "political-leisure",
   "metadata": {
    "ExecuteTime": {
     "end_time": "2021-03-19T23:09:29.262441Z",
     "start_time": "2021-03-19T23:09:29.216470Z"
    },
    "execution": {
     "iopub.status.busy": "2021-03-25T16:07:58.196457Z",
     "iopub.status.idle": "2021-03-25T16:07:58.197456Z"
    },
    "scrolled": true
   },
   "outputs": [],
   "source": [
    "# Due to lack of information about 'BMI', we decided to mantein higher BMI in the dataset.\n",
    "df3.query('bmi > 60')"
   ]
  },
  {
   "cell_type": "markdown",
   "id": "manual-finnish",
   "metadata": {},
   "source": [
    "# EDA - Exploratory Data Analysis"
   ]
  },
  {
   "cell_type": "code",
   "execution_count": null,
   "id": "existing-therapist",
   "metadata": {
    "ExecuteTime": {
     "end_time": "2021-03-19T23:09:29.304413Z",
     "start_time": "2021-03-19T23:09:29.273433Z"
    },
    "execution": {
     "iopub.status.busy": "2021-03-25T16:07:58.198456Z",
     "iopub.status.idle": "2021-03-25T16:07:58.199456Z"
    },
    "hidden": true
   },
   "outputs": [],
   "source": [
    "df3.head()"
   ]
  },
  {
   "cell_type": "code",
   "execution_count": null,
   "id": "metallic-preference",
   "metadata": {
    "ExecuteTime": {
     "end_time": "2021-03-19T23:09:29.326400Z",
     "start_time": "2021-03-19T23:09:29.310410Z"
    },
    "execution": {
     "iopub.status.busy": "2021-03-25T16:07:58.201455Z",
     "iopub.status.idle": "2021-03-25T16:07:58.201455Z"
    },
    "hidden": true
   },
   "outputs": [],
   "source": [
    "df4 = df3.copy()"
   ]
  },
  {
   "cell_type": "markdown",
   "id": "future-footage",
   "metadata": {
    "heading_collapsed": true,
    "hidden": true
   },
   "source": [
    "## Univariate Ananalysis"
   ]
  },
  {
   "cell_type": "markdown",
   "id": "strange-criterion",
   "metadata": {
    "heading_collapsed": true,
    "hidden": true
   },
   "source": [
    "### Age"
   ]
  },
  {
   "cell_type": "code",
   "execution_count": null,
   "id": "advised-victorian",
   "metadata": {
    "ExecuteTime": {
     "end_time": "2021-03-19T23:09:29.896185Z",
     "start_time": "2021-03-19T23:09:29.331396Z"
    },
    "execution": {
     "iopub.status.busy": "2021-03-25T16:07:58.203453Z",
     "iopub.status.idle": "2021-03-25T16:07:58.204452Z"
    },
    "hidden": true
   },
   "outputs": [],
   "source": [
    "df4['age'].hist(bins = 20)"
   ]
  },
  {
   "cell_type": "code",
   "execution_count": null,
   "id": "objective-limit",
   "metadata": {
    "ExecuteTime": {
     "end_time": "2021-03-19T23:09:31.300325Z",
     "start_time": "2021-03-19T23:09:29.900182Z"
    },
    "execution": {
     "iopub.status.busy": "2021-03-25T16:07:58.205453Z",
     "iopub.status.idle": "2021-03-25T16:07:58.206451Z"
    },
    "hidden": true
   },
   "outputs": [],
   "source": [
    "age_plot = sns.countplot(df4['age'])\n",
    "\n",
    "annot_plot(age_plot)\n",
    "\n",
    "plt.title('Age Distribution', fontsize = 18);"
   ]
  },
  {
   "cell_type": "markdown",
   "id": "unlimited-branch",
   "metadata": {
    "ExecuteTime": {
     "end_time": "2021-03-13T08:31:43.094095Z",
     "start_time": "2021-03-13T08:31:43.091097Z"
    },
    "heading_collapsed": true,
    "hidden": true
   },
   "source": [
    "### Cardio Disease"
   ]
  },
  {
   "cell_type": "code",
   "execution_count": null,
   "id": "conventional-conducting",
   "metadata": {
    "ExecuteTime": {
     "end_time": "2021-03-19T23:09:31.326304Z",
     "start_time": "2021-03-19T23:09:31.302320Z"
    },
    "execution": {
     "iopub.status.busy": "2021-03-25T16:07:58.208450Z",
     "iopub.status.idle": "2021-03-25T16:07:58.208450Z"
    },
    "hidden": true
   },
   "outputs": [],
   "source": [
    "# Disease proportion on dataset\n",
    "\n",
    "print(f'Patients without cardio disease: {df4.cardio.value_counts()[0]} - {round((df4.cardio.value_counts()[0] / len(df4)) * 100, 2)}%'\n",
    "      f'\\nPatients with cardio disease: {df4.cardio.value_counts()[1]} -  {round((df4.cardio.value_counts()[1] / len(df4)) * 100, 2)}%')"
   ]
  },
  {
   "cell_type": "code",
   "execution_count": null,
   "id": "tutorial-sunday",
   "metadata": {
    "ExecuteTime": {
     "end_time": "2021-03-19T23:09:31.628118Z",
     "start_time": "2021-03-19T23:09:31.329302Z"
    },
    "execution": {
     "iopub.status.busy": "2021-03-25T16:07:58.210449Z",
     "iopub.status.idle": "2021-03-25T16:07:58.211449Z"
    },
    "hidden": true,
    "scrolled": true
   },
   "outputs": [],
   "source": [
    "disease_plot = sns.countplot(df4['cardio'])\n",
    "\n",
    "annot_plot(disease_plot)\n",
    "\n",
    "plt.xticks([0, 1], ['No', 'Yes'], fontsize = 14, rotation = 'horizontal')\n",
    "plt.title('Cardio Disease', fontsize = 18);"
   ]
  },
  {
   "cell_type": "code",
   "execution_count": null,
   "id": "senior-gibraltar",
   "metadata": {
    "ExecuteTime": {
     "end_time": "2021-03-19T23:09:31.888957Z",
     "start_time": "2021-03-19T23:09:31.630116Z"
    },
    "execution": {
     "iopub.status.busy": "2021-03-25T16:07:58.213448Z",
     "iopub.status.idle": "2021-03-25T16:07:58.213448Z"
    },
    "hidden": true,
    "scrolled": true
   },
   "outputs": [],
   "source": [
    "# Boxplot - Cardio Disease by Age.\n",
    "\n",
    "ax = sns.boxplot('cardio', 'age', data = df4)\n",
    "ax.set_title('Cardio Disease by Age', fontsize = 18)\n",
    "plt.xticks([0, 1], ['No', 'Yes'], fontsize = 14)\n",
    "ax;"
   ]
  },
  {
   "cell_type": "code",
   "execution_count": null,
   "id": "separate-hawaiian",
   "metadata": {
    "ExecuteTime": {
     "end_time": "2021-03-19T23:09:32.199767Z",
     "start_time": "2021-03-19T23:09:31.891956Z"
    },
    "execution": {
     "iopub.status.busy": "2021-03-25T16:07:58.215446Z",
     "iopub.status.idle": "2021-03-25T16:07:58.216445Z"
    },
    "hidden": true,
    "scrolled": true
   },
   "outputs": [],
   "source": [
    "sns.countplot('smoke', hue = 'cardio', data = df4)\n",
    "\n",
    "plt.xticks([0, 1], ['No', 'Yes'], fontsize = 14, rotation = 'horizontal')\n",
    "plt.legend(labels = ['No', 'Yes'], fontsize = 14)\n",
    "plt.title('Cardio Disese by Smoker', fontsize = 18)"
   ]
  },
  {
   "cell_type": "code",
   "execution_count": null,
   "id": "empty-fields",
   "metadata": {
    "ExecuteTime": {
     "end_time": "2021-03-19T23:09:32.642494Z",
     "start_time": "2021-03-19T23:09:32.202764Z"
    },
    "execution": {
     "iopub.status.busy": "2021-03-25T16:07:58.217445Z",
     "iopub.status.idle": "2021-03-25T16:07:58.218445Z"
    },
    "hidden": true,
    "scrolled": true
   },
   "outputs": [],
   "source": [
    "sns.countplot('cholesterol', hue = 'cardio', data = df4)\n",
    "\n",
    "plt.xticks([0, 1, 2], ['normal', 'above normal', 'well above normal'], fontsize = 14, rotation = 'horizontal')\n",
    "plt.legend(labels = ['No', 'Yes'], fontsize = 14)\n",
    "plt.title('Cardio Disese by Cholesterol', fontsize = 18);"
   ]
  },
  {
   "cell_type": "code",
   "execution_count": null,
   "id": "intelligent-panel",
   "metadata": {
    "ExecuteTime": {
     "end_time": "2021-03-19T23:09:32.933314Z",
     "start_time": "2021-03-19T23:09:32.644492Z"
    },
    "execution": {
     "iopub.status.busy": "2021-03-25T16:07:58.220444Z",
     "iopub.status.idle": "2021-03-25T16:07:58.220444Z"
    },
    "hidden": true
   },
   "outputs": [],
   "source": [
    "sns.boxplot('cardio', 'bmi', data = df4)"
   ]
  },
  {
   "cell_type": "code",
   "execution_count": null,
   "id": "stable-prospect",
   "metadata": {
    "ExecuteTime": {
     "end_time": "2021-03-19T23:09:32.963295Z",
     "start_time": "2021-03-19T23:09:32.937312Z"
    },
    "execution": {
     "iopub.status.busy": "2021-03-25T16:07:58.222442Z",
     "iopub.status.idle": "2021-03-25T16:07:58.223442Z"
    },
    "hidden": true
   },
   "outputs": [],
   "source": [
    "df4.head()"
   ]
  },
  {
   "cell_type": "markdown",
   "id": "pleased-thong",
   "metadata": {
    "heading_collapsed": true,
    "hidden": true
   },
   "source": [
    "### Gender"
   ]
  },
  {
   "cell_type": "code",
   "execution_count": null,
   "id": "raised-facial",
   "metadata": {
    "ExecuteTime": {
     "end_time": "2021-03-19T23:09:32.981286Z",
     "start_time": "2021-03-19T23:09:32.969292Z"
    },
    "execution": {
     "iopub.status.busy": "2021-03-25T16:07:58.224440Z",
     "iopub.status.idle": "2021-03-25T16:07:58.225439Z"
    },
    "hidden": true
   },
   "outputs": [],
   "source": [
    "df4['gender'].value_counts()"
   ]
  },
  {
   "cell_type": "code",
   "execution_count": null,
   "id": "prospective-allah",
   "metadata": {
    "ExecuteTime": {
     "end_time": "2021-03-19T23:09:33.324074Z",
     "start_time": "2021-03-19T23:09:32.985283Z"
    },
    "execution": {
     "iopub.status.busy": "2021-03-25T16:07:58.227439Z",
     "iopub.status.idle": "2021-03-25T16:07:58.227439Z"
    },
    "hidden": true,
    "scrolled": true
   },
   "outputs": [],
   "source": [
    "gender_plot = sns.countplot(df4['gender'])\n",
    "\n",
    "annot_plot(gender_plot)\n",
    "\n",
    "plt.title('Gender Distribution', fontsize = 18)\n",
    "plt.xticks([0, 1], ['Women', 'Man'], rotation = 'horizontal', fontsize = 14);"
   ]
  },
  {
   "cell_type": "code",
   "execution_count": null,
   "id": "quality-insert",
   "metadata": {
    "ExecuteTime": {
     "end_time": "2021-03-19T23:09:33.767801Z",
     "start_time": "2021-03-19T23:09:33.327072Z"
    },
    "execution": {
     "iopub.status.busy": "2021-03-25T16:07:58.229437Z",
     "iopub.status.idle": "2021-03-25T16:07:58.230437Z"
    },
    "hidden": true
   },
   "outputs": [],
   "source": [
    "# BoxPlot - Blod Pressure by Age\n",
    "\n",
    "sns.boxplot('cat_blood_pressure', 'age',data = df4)\n",
    "\n",
    "plt.title('Blood Pressure Cagories by Age', fontsize = 18)\n",
    "plt.xticks([0, 1, 2, 3, 4], ['Normal', 'Elevated', 'Hypertension 1', 'Hypertension 2', 'Hypertension 3'], fontsize = 14);"
   ]
  },
  {
   "cell_type": "code",
   "execution_count": null,
   "id": "conscious-concentrate",
   "metadata": {
    "ExecuteTime": {
     "end_time": "2021-03-19T23:09:34.045628Z",
     "start_time": "2021-03-19T23:09:33.772798Z"
    },
    "execution": {
     "iopub.status.busy": "2021-03-25T16:07:58.232435Z",
     "iopub.status.idle": "2021-03-25T16:07:58.232435Z"
    },
    "hidden": true
   },
   "outputs": [],
   "source": [
    "# Violin Plot - Cardio Disease by BMI\n",
    "\n",
    "sns.boxplot('cardio', 'bmi',data = df4)\n",
    "\n",
    "plt.title('Blood Pressure Cagories by Age', fontsize = 18)\n",
    "plt.xticks([0, 1], ['No', 'Yes'], fontsize = 14);"
   ]
  },
  {
   "cell_type": "markdown",
   "id": "dominant-angola",
   "metadata": {
    "hidden": true
   },
   "source": [
    "### Bloob Pressure Cat."
   ]
  },
  {
   "cell_type": "code",
   "execution_count": null,
   "id": "scheduled-complexity",
   "metadata": {
    "ExecuteTime": {
     "end_time": "2021-03-19T23:09:34.883113Z",
     "start_time": "2021-03-19T23:09:34.047627Z"
    },
    "execution": {
     "iopub.status.busy": "2021-03-25T16:07:58.236433Z",
     "iopub.status.idle": "2021-03-25T16:07:58.237433Z"
    },
    "hidden": true
   },
   "outputs": [],
   "source": [
    "blod_p = sns.countplot(df4['cat_blood_pressure'])\n",
    "\n",
    "annot_plot(blod_p)\n",
    "\n",
    "plt.title('Blood Pressure Cagories', fontsize = 18)\n",
    "plt.xticks([0, 1, 2, 3, 4], ['Normal', 'Elevated', 'Hypertension 1', 'Hypertension 2', 'Hypertension 3'], fontsize = 14);"
   ]
  },
  {
   "cell_type": "markdown",
   "id": "coordinate-proportion",
   "metadata": {
    "heading_collapsed": true,
    "hidden": true
   },
   "source": [
    "### BMI analysis\n",
    "    "
   ]
  },
  {
   "cell_type": "code",
   "execution_count": null,
   "id": "oriented-petroleum",
   "metadata": {
    "ExecuteTime": {
     "end_time": "2021-03-19T23:09:35.394799Z",
     "start_time": "2021-03-19T23:09:34.886112Z"
    },
    "execution": {
     "iopub.status.busy": "2021-03-25T16:07:58.238435Z",
     "iopub.status.idle": "2021-03-25T16:07:58.239432Z"
    },
    "hidden": true
   },
   "outputs": [],
   "source": [
    "#- Second Cycle.\n",
    "# Looking for BMI outliers\n",
    "\n",
    "sns.boxplot(df4['bmi'])"
   ]
  },
  {
   "cell_type": "code",
   "execution_count": null,
   "id": "regional-dodge",
   "metadata": {
    "ExecuteTime": {
     "end_time": "2021-03-19T23:09:35.415787Z",
     "start_time": "2021-03-19T23:09:35.397797Z"
    },
    "execution": {
     "iopub.status.busy": "2021-03-25T16:07:58.241429Z",
     "iopub.status.idle": "2021-03-25T16:07:58.241429Z"
    },
    "hidden": true,
    "scrolled": true
   },
   "outputs": [],
   "source": [
    "df4.query('bmi > 60').count()"
   ]
  },
  {
   "cell_type": "code",
   "execution_count": null,
   "id": "relative-advocacy",
   "metadata": {
    "ExecuteTime": {
     "end_time": "2021-03-19T23:09:35.425781Z",
     "start_time": "2021-03-19T23:09:35.418786Z"
    },
    "execution": {
     "iopub.status.busy": "2021-03-25T16:07:58.243428Z",
     "iopub.status.idle": "2021-03-25T16:07:58.244428Z"
    },
    "hidden": true
   },
   "outputs": [],
   "source": [
    "df4.shape"
   ]
  },
  {
   "cell_type": "code",
   "execution_count": null,
   "id": "dominican-infection",
   "metadata": {
    "ExecuteTime": {
     "end_time": "2021-03-19T23:09:35.452762Z",
     "start_time": "2021-03-19T23:09:35.429777Z"
    },
    "execution": {
     "iopub.status.busy": "2021-03-25T16:07:58.245427Z",
     "iopub.status.idle": "2021-03-25T16:07:58.246429Z"
    },
    "hidden": true
   },
   "outputs": [],
   "source": [
    "# After see that there are some BMI outliers, we decided to exclude BMI bigger than 60.\n",
    "\n",
    "df4 = df4.query('bmi <= 60')\n",
    "df4.shape"
   ]
  },
  {
   "cell_type": "code",
   "execution_count": null,
   "id": "pleasant-rolling",
   "metadata": {
    "ExecuteTime": {
     "end_time": "2021-03-19T23:09:35.460758Z",
     "start_time": "2021-03-19T23:09:35.455763Z"
    },
    "execution": {
     "iopub.status.busy": "2021-03-25T16:07:58.248426Z",
     "iopub.status.idle": "2021-03-25T16:07:58.248426Z"
    },
    "hidden": true
   },
   "outputs": [],
   "source": [
    "print(f'Were excluded {68488 - 68469} rows from datatset')"
   ]
  },
  {
   "cell_type": "code",
   "execution_count": null,
   "id": "personal-parker",
   "metadata": {
    "ExecuteTime": {
     "end_time": "2021-03-19T23:09:35.706605Z",
     "start_time": "2021-03-19T23:09:35.464755Z"
    },
    "execution": {
     "iopub.status.busy": "2021-03-25T16:07:58.250425Z",
     "iopub.status.idle": "2021-03-25T16:07:58.250425Z"
    },
    "hidden": true
   },
   "outputs": [],
   "source": [
    "sns.boxplot(df4['bmi'])"
   ]
  },
  {
   "cell_type": "markdown",
   "id": "operational-patio",
   "metadata": {
    "hidden": true
   },
   "source": [
    "## Bivariate Analysis"
   ]
  },
  {
   "cell_type": "markdown",
   "id": "soviet-mount",
   "metadata": {
    "heading_collapsed": true,
    "hidden": true
   },
   "source": [
    "### Cholesterol and Cardio Diseases"
   ]
  },
  {
   "cell_type": "code",
   "execution_count": null,
   "id": "endangered-replication",
   "metadata": {
    "ExecuteTime": {
     "end_time": "2021-03-19T23:09:37.278638Z",
     "start_time": "2021-03-19T23:09:35.709604Z"
    },
    "execution": {
     "iopub.status.busy": "2021-03-25T16:07:58.252423Z",
     "iopub.status.idle": "2021-03-25T16:07:58.253423Z"
    },
    "hidden": true
   },
   "outputs": [],
   "source": [
    "# - Second Cycle.\n",
    "# Relation between cholesterol and cardio diseases\n",
    "\n",
    "ax = sns.countplot(df4['cholesterol'], hue = df4['cardio'])\n",
    "ax.set_title('Cardio Disease by Cholesterol Type', fontsize = 18)\n",
    "\n",
    "annot_plot(ax)\n",
    "\n",
    "plt.xticks([0, 1, 2], labels = ['Normal', 'Above Normal', 'Well Above Normal'], fontsize = 14)\n",
    "plt.legend(labels = ['No cardio disease', 'Cardio disease'], fontsize = 14);"
   ]
  },
  {
   "cell_type": "markdown",
   "id": "accessory-spotlight",
   "metadata": {
    "heading_collapsed": true,
    "hidden": true
   },
   "source": [
    "### Blood Pressure (Hypertension) and Cardio Disease"
   ]
  },
  {
   "cell_type": "code",
   "execution_count": null,
   "id": "solved-castle",
   "metadata": {
    "ExecuteTime": {
     "end_time": "2021-03-19T23:09:38.687774Z",
     "start_time": "2021-03-19T23:09:37.280639Z"
    },
    "execution": {
     "iopub.status.busy": "2021-03-25T16:07:58.255422Z",
     "iopub.status.idle": "2021-03-25T16:07:58.255422Z"
    },
    "hidden": true
   },
   "outputs": [],
   "source": [
    "# - Second Cycle.\n",
    "# Relation between cholesterol and cardio diseases\n",
    "\n",
    "ax = sns.countplot(df4['cat_blood_pressure'], hue = df4['cardio'])\n",
    "ax.set_title('Cardio Disease by Blood Pressure (Hypertension)', fontsize = 18)\n",
    "\n",
    "annot_plot(ax)\n",
    "\n",
    "plt.xticks([0, 1, 2, 3, 4], labels = ['Normal', 'Elevated', 'Hypertension 1', 'Hypertension 2', 'Hypertension 3'], fontsize = 14)\n",
    "plt.legend(labels = ['No cardio disease', 'Cardio disease'], fontsize = 14);"
   ]
  },
  {
   "cell_type": "markdown",
   "id": "comic-shield",
   "metadata": {
    "heading_collapsed": true,
    "hidden": true
   },
   "source": [
    "### BMI Category (cat_weight) and Cardio Diseases"
   ]
  },
  {
   "cell_type": "code",
   "execution_count": null,
   "id": "functioning-blame",
   "metadata": {
    "ExecuteTime": {
     "end_time": "2021-03-19T23:09:40.335778Z",
     "start_time": "2021-03-19T23:09:38.690769Z"
    },
    "execution": {
     "iopub.status.busy": "2021-03-25T16:07:58.257420Z",
     "iopub.status.idle": "2021-03-25T16:07:58.257420Z"
    },
    "hidden": true,
    "scrolled": true
   },
   "outputs": [],
   "source": [
    "# - Second Cycle.\n",
    "# Relation between BMI and cardio diseases\n",
    "\n",
    "ax = sns.countplot(df4['cat_weight'], hue = df4['cardio'])\n",
    "ax.set_title('Cardio Disease by BMI Category', fontsize = 18)\n",
    "\n",
    "annot_plot(ax)\n",
    "\n",
    "plt.xticks([0, 1, 2, 3, 4, 5],\n",
    "           labels = ['underweight', 'normal', 'elevated', 'overweight', 'obesity', 'morbid obesity'], fontsize = 14)\n",
    "plt.legend(labels = ['No cardio disease', 'Cardio disease'], fontsize = 14);"
   ]
  },
  {
   "cell_type": "code",
   "execution_count": null,
   "id": "political-stranger",
   "metadata": {
    "ExecuteTime": {
     "end_time": "2021-03-19T23:09:41.800871Z",
     "start_time": "2021-03-19T23:09:40.340771Z"
    },
    "execution": {
     "iopub.status.busy": "2021-03-25T16:07:58.259419Z",
     "iopub.status.idle": "2021-03-25T16:07:58.260419Z"
    },
    "hidden": true
   },
   "outputs": [],
   "source": [
    "# - Second Cycle.\n",
    "# Relation between Smoke and cardio diseases\n",
    "\n",
    "ax = sns.countplot(df4['smoke'], hue = df4['cardio'])\n",
    "ax.set_title('Cardio Disease by Smokers', fontsize = 18)\n",
    "\n",
    "annot_plot(ax)\n",
    "\n",
    "plt.xticks([0, 1],\n",
    "           labels = ['Not Smoker', 'Smoker'], fontsize = 14)\n",
    "plt.legend(labels = ['No cardio disease', 'Cardio disease'], fontsize = 14);"
   ]
  },
  {
   "cell_type": "markdown",
   "id": "naval-winner",
   "metadata": {
    "heading_collapsed": true,
    "hidden": true
   },
   "source": [
    "## Multivariate Analysis"
   ]
  },
  {
   "cell_type": "code",
   "execution_count": null,
   "id": "handed-pepper",
   "metadata": {
    "ExecuteTime": {
     "end_time": "2021-03-19T23:09:41.841849Z",
     "start_time": "2021-03-19T23:09:41.804869Z"
    },
    "execution": {
     "iopub.status.busy": "2021-03-25T16:07:58.261419Z",
     "iopub.status.idle": "2021-03-25T16:07:58.262417Z"
    },
    "hidden": true
   },
   "outputs": [],
   "source": [
    "df4.head()"
   ]
  },
  {
   "cell_type": "code",
   "execution_count": null,
   "id": "accessible-thesaurus",
   "metadata": {
    "ExecuteTime": {
     "end_time": "2021-03-19T23:09:48.710171Z",
     "start_time": "2021-03-19T23:09:41.846845Z"
    },
    "execution": {
     "iopub.status.busy": "2021-03-25T16:07:58.264417Z",
     "iopub.status.idle": "2021-03-25T16:07:58.264417Z"
    },
    "hidden": true
   },
   "outputs": [],
   "source": [
    "corr = df4.corr()\n",
    "\n",
    "f, ax = plt.subplots(figsize = (15,15))\n",
    "sns.heatmap(corr, annot=True, fmt=\".3f\", linewidths=0.5, ax=ax)\n",
    "plt.title('Correlation Heatmap', fontsize = 18)\n",
    "plt.xticks(fontsize = 14)\n",
    "plt.yticks(rotation = 'horizontal', fontsize = 14);"
   ]
  },
  {
   "cell_type": "code",
   "execution_count": null,
   "id": "stock-sheet",
   "metadata": {
    "ExecuteTime": {
     "end_time": "2021-03-19T23:09:54.289740Z",
     "start_time": "2021-03-19T23:09:48.726162Z"
    },
    "execution": {
     "iopub.status.busy": "2021-03-25T16:07:58.265415Z",
     "iopub.status.idle": "2021-03-25T16:07:58.266415Z"
    },
    "hidden": true
   },
   "outputs": [],
   "source": [
    "df4.hist(figsize = (20,12), bins = 25);"
   ]
  },
  {
   "cell_type": "markdown",
   "id": "verbal-portal",
   "metadata": {},
   "source": [
    "# Features Selection"
   ]
  },
  {
   "cell_type": "code",
   "execution_count": null,
   "id": "occupied-custom",
   "metadata": {
    "ExecuteTime": {
     "end_time": "2021-03-19T23:09:54.327713Z",
     "start_time": "2021-03-19T23:09:54.292735Z"
    },
    "execution": {
     "iopub.status.busy": "2021-03-25T16:07:58.268415Z",
     "iopub.status.idle": "2021-03-25T16:07:58.268415Z"
    }
   },
   "outputs": [],
   "source": [
    "df5 = df4.copy()\n",
    "df5 = df5[['age', 'gender', 'height', 'weight', 'ap_hi', 'ap_lo', 'cholesterol', 'gluc', 'smoke',\n",
    "           'alco', 'active', 'bmi', 'cat_weight', 'cat_blood_pressure', 'cardio']]\n",
    "\n",
    "df5.head()"
   ]
  },
  {
   "cell_type": "code",
   "execution_count": null,
   "id": "israeli-pipeline",
   "metadata": {
    "ExecuteTime": {
     "end_time": "2021-03-19T23:09:54.359695Z",
     "start_time": "2021-03-19T23:09:54.329712Z"
    },
    "execution": {
     "iopub.status.busy": "2021-03-25T16:07:58.270413Z",
     "iopub.status.idle": "2021-03-25T16:07:58.270413Z"
    }
   },
   "outputs": [],
   "source": [
    "# Second Cycle - excluded some features -> ['gender','ap_hi', 'ap_lo', 'bmi']\n",
    "\n",
    "df5_2 = df5[['age', 'height', 'weight', 'cholesterol', 'gluc', 'smoke',\n",
    "           'alco', 'active', 'cat_weight', 'cat_blood_pressure', 'cardio']]\n",
    "\n",
    "df5_2.head()"
   ]
  },
  {
   "cell_type": "code",
   "execution_count": null,
   "id": "executed-spouse",
   "metadata": {
    "ExecuteTime": {
     "end_time": "2021-03-19T23:09:54.437645Z",
     "start_time": "2021-03-19T23:09:54.362692Z"
    },
    "execution": {
     "iopub.status.busy": "2021-03-25T16:07:58.272410Z",
     "iopub.status.idle": "2021-03-25T16:07:58.273410Z"
    }
   },
   "outputs": [],
   "source": [
    "x = df5.drop('cardio', axis = 1)\n",
    "\n",
    "y = df5['cardio']\n",
    "\n",
    "x_train, x_test, y_train, y_test = train_test_split(x, y, random_state = SEED,  stratify = y)\n",
    "\n",
    "print(f'x_train: {x_train.shape[0]}\\n'\n",
    "      f'x_test: {x_test.shape[0]}\\n\\n'\n",
    "      f'y_train: {y_train.shape[0]}\\n'\n",
    "      f'y_test: {y_test.shape[0]}')"
   ]
  },
  {
   "cell_type": "markdown",
   "id": "painted-shirt",
   "metadata": {
    "ExecuteTime": {
     "end_time": "2021-03-19T15:58:20.303536Z",
     "start_time": "2021-03-19T15:58:20.297540Z"
    },
    "heading_collapsed": true
   },
   "source": [
    "### Second Cycle"
   ]
  },
  {
   "cell_type": "code",
   "execution_count": null,
   "id": "essential-volume",
   "metadata": {
    "ExecuteTime": {
     "end_time": "2021-03-19T23:09:54.503605Z",
     "start_time": "2021-03-19T23:09:54.439643Z"
    },
    "execution": {
     "iopub.status.busy": "2021-03-25T16:07:58.274410Z",
     "iopub.status.idle": "2021-03-25T16:07:58.275410Z"
    },
    "hidden": true
   },
   "outputs": [],
   "source": [
    "x_2 = df5_2.drop('cardio', axis = 1)\n",
    "\n",
    "y_2 = df5_2['cardio']\n",
    "\n",
    "x_train_2, x_test_2, y_train_2, y_test_2 = train_test_split(x_2, y_2, random_state = SEED,  stratify = y)\n",
    "\n",
    "print(f'x_train: {x_train_2.shape[0]}\\n'\n",
    "      f'x_test: {x_test_2.shape[0]}\\n\\n'\n",
    "      f'y_train: {y_train_2.shape[0]}\\n'\n",
    "      f'y_test: {y_test_2.shape[0]}')"
   ]
  },
  {
   "cell_type": "markdown",
   "id": "tested-concrete",
   "metadata": {},
   "source": [
    "### Third Cycle\n",
    "    - Tried to rescale the dataset in order to improove metrics."
   ]
  },
  {
   "cell_type": "code",
   "execution_count": null,
   "id": "social-transsexual",
   "metadata": {
    "ExecuteTime": {
     "end_time": "2021-03-19T23:09:54.520593Z",
     "start_time": "2021-03-19T23:09:54.505603Z"
    },
    "execution": {
     "iopub.status.busy": "2021-03-25T16:07:58.277410Z",
     "iopub.status.idle": "2021-03-25T16:07:58.277410Z"
    }
   },
   "outputs": [],
   "source": [
    "x_3 = df5.drop('cardio', axis = 1)\n",
    "\n",
    "y_3 = df5['cardio']"
   ]
  },
  {
   "cell_type": "code",
   "execution_count": null,
   "id": "bronze-ideal",
   "metadata": {
    "ExecuteTime": {
     "end_time": "2021-03-20T19:29:48.621756Z",
     "start_time": "2021-03-20T19:29:48.299141Z"
    },
    "execution": {
     "iopub.status.busy": "2021-03-25T16:07:58.279407Z",
     "iopub.status.idle": "2021-03-25T16:07:58.279407Z"
    }
   },
   "outputs": [],
   "source": [
    "# Rescaling Features - saving as pickle\n",
    "\n",
    "mms = MinMaxScaler()\n",
    "rbs = RobustScaler()\n",
    "\n",
    "x_3['age'] = mms.fit_transform(x_3[['age']].values)\n",
    "pickle.dump(mms, open('C:\\\\Users\\\\felip\\\\repos\\\\cardio\\\\Cardiovascular-disease-prediction\\\\Parameters\\\\age_scaler.pkl', 'wb'))\n",
    "\n",
    "x_3['height'] = rbs.fit_transform(x_3[['height']].values)\n",
    "pickle.dump(rbs, open('C:\\\\Users\\\\felip\\\\repos\\\\cardio\\\\Cardiovascular-disease-prediction\\\\Parameters\\\\height_scaler.pkl', 'wb'))\n",
    "\n",
    "x_3['weight'] = rbs.fit_transform(x_3[['weight']].values)\n",
    "pickle.dump(rbs, open('C:\\\\Users\\\\felip\\\\repos\\\\cardio\\\\Cardiovascular-disease-prediction\\\\Parameters\\\\weight_scaler.pkl', 'wb'))\n",
    "\n",
    "x_3['ap_hi'] = rbs.fit_transform(x_3[['ap_hi']].values)\n",
    "pickle.dump(rbs, open('C:\\\\Users\\\\felip\\\\repos\\\\cardio\\\\Cardiovascular-disease-prediction\\\\Parameters\\\\ap_hi_scaler.pkl', 'wb'))\n",
    "\n",
    "x_3['ap_lo'] = rbs.fit_transform(x_3[['ap_lo']].values)\n",
    "pickle.dump(mms, open('C:\\\\Users\\\\felip\\\\repos\\\\cardio\\\\Cardiovascular-disease-prediction\\\\Parameters\\\\ap_lo_scaler.pkl', 'wb'))                     \n",
    "                      \n",
    "x_3['cholesterol'] = rbs.fit_transform(x_3[['cholesterol']].values)\n",
    "pickle.dump(mms, open('C:\\\\Users\\\\felip\\\\repos\\\\cardio\\\\Cardiovascular-disease-prediction\\\\Parameters\\\\cholesterol_scaler.pkl', 'wb')) \n",
    "\n",
    "x_3['bmi'] = rbs.fit_transform(x_3[['bmi']].values)\n",
    "pickle.dump(mms, open('C:\\\\Users\\\\felip\\\\repos\\\\cardio\\\\Cardiovascular-disease-prediction\\\\Parameters\\\\bmi_scaler.pkl', 'wb')) \n",
    "\n",
    "x_3['cat_weight'] = rbs.fit_transform(x_3[['cat_weight']].values)\n",
    "pickle.dump(mms, open('C:\\\\Users\\\\felip\\\\repos\\\\cardio\\\\Cardiovascular-disease-prediction\\\\Parameters\\\\cat_weight_scaler.pkl', 'wb')) \n",
    "\n",
    "x_3['cat_blood_pressure'] = rbs.fit_transform(x_3[['cat_blood_pressure']].values)\n",
    "pickle.dump(mms, open('C:\\\\Users\\\\felip\\\\repos\\\\cardio\\\\Cardiovascular-disease-prediction\\\\Parameters\\\\cat_blood_pressure_scaler.pkl', 'wb'))"
   ]
  },
  {
   "cell_type": "code",
   "execution_count": null,
   "id": "forbidden-shift",
   "metadata": {
    "ExecuteTime": {
     "end_time": "2021-03-19T23:09:54.665506Z",
     "start_time": "2021-03-19T23:09:54.630527Z"
    },
    "execution": {
     "iopub.status.busy": "2021-03-25T16:07:58.281406Z",
     "iopub.status.idle": "2021-03-25T16:07:58.282404Z"
    }
   },
   "outputs": [],
   "source": [
    "x3_train, x3_test, y3_train, y3_test = train_test_split(x_3, y_3, test_size=0.3, random_state = SEED)\n",
    "\n",
    "print(f'x_train: {x3_train.shape[0]}\\n'\n",
    "      f'x_test: {x3_test.shape[0]}\\n\\n'\n",
    "      f'y_train: {y3_train.shape[0]}\\n'\n",
    "      f'y_test: {y3_test.shape[0]}')"
   ]
  },
  {
   "cell_type": "markdown",
   "id": "attempted-situation",
   "metadata": {},
   "source": [
    "# Machine Learning Modeling\n",
    "**Classifier Models to implement:**\n",
    "\n",
    "* **KNeighborsClassifier**\n",
    "\n",
    "* **RandomForestClassifier**\n",
    "\n",
    "* **XGBoostClassifier**\n",
    "\n",
    "* **LGBMClassifier**"
   ]
  },
  {
   "cell_type": "markdown",
   "id": "democratic-stuart",
   "metadata": {
    "heading_collapsed": true
   },
   "source": [
    "## KNeighborsClassifier "
   ]
  },
  {
   "cell_type": "code",
   "execution_count": null,
   "id": "charged-bachelor",
   "metadata": {
    "ExecuteTime": {
     "end_time": "2021-03-19T23:09:54.673500Z",
     "start_time": "2021-03-19T23:09:54.667504Z"
    },
    "execution": {
     "iopub.status.busy": "2021-03-25T16:07:58.283404Z",
     "iopub.status.idle": "2021-03-25T16:07:58.284404Z"
    },
    "hidden": true
   },
   "outputs": [],
   "source": [
    "'''\n",
    "KN_model = KNeighborsClassifier(weights = 'distance', n_jobs = -1)\n",
    "\n",
    "KN_model.fit(x_train, y_train)\n",
    "y_hat_KN = KN_model.predict(x_test)\n",
    "\n",
    "# Evaluation Metrics\n",
    "KN_cross_val__avg_acc = cross_val_score(KN_model, x_train, y_train, cv = 5).mean()\n",
    "KN_precision = precision_score(y_test, y_hat_KN)\n",
    "KN_recall = recall_score(y_test, y_hat_KN)\n",
    "KN_f1_score = f1_score(y_test, y_hat_KN)\n",
    "KN_Kappa_score = cohen_kappa_score(y_test, y_hat_KN)\n",
    "KN_balanced_acc = balanced_accuracy_score(y_test, y_hat_KN)\n",
    "\n",
    "KN_metrics = pd.DataFrame({'model':['KNN Classifier'],\n",
    "                           'accuracy':[KN_cross_val__avg_acc],\n",
    "                           'precision':[KN_precision],\n",
    "                           'recall':[KN_recall],\n",
    "                           'f1_score':[KN_f1_score],\n",
    "                           'kappa_score': [KN_Kappa_score], \n",
    "                           'balanced accuracy':[KN_balanced_acc]})\n",
    "\n",
    "KN_metrics\n",
    "'''"
   ]
  },
  {
   "cell_type": "code",
   "execution_count": null,
   "id": "narrow-bankruptcy",
   "metadata": {
    "ExecuteTime": {
     "end_time": "2021-03-19T23:09:54.682496Z",
     "start_time": "2021-03-19T23:09:54.676499Z"
    },
    "execution": {
     "iopub.status.busy": "2021-03-25T16:07:58.286403Z",
     "iopub.status.idle": "2021-03-25T16:07:58.286403Z"
    },
    "hidden": true
   },
   "outputs": [],
   "source": [
    "#print(classification_report(y_test, y_hat_KN))"
   ]
  },
  {
   "cell_type": "markdown",
   "id": "blind-commander",
   "metadata": {
    "heading_collapsed": true
   },
   "source": [
    "## RandonForestClassifier"
   ]
  },
  {
   "cell_type": "code",
   "execution_count": null,
   "id": "planned-asbestos",
   "metadata": {
    "ExecuteTime": {
     "end_time": "2021-03-19T23:09:54.691490Z",
     "start_time": "2021-03-19T23:09:54.685493Z"
    },
    "execution": {
     "iopub.status.busy": "2021-03-25T16:07:58.288402Z",
     "iopub.status.idle": "2021-03-25T16:07:58.289402Z"
    },
    "hidden": true,
    "scrolled": true
   },
   "outputs": [],
   "source": [
    "'''\n",
    "RF_model = RandomForestClassifier(n_estimators = 1500, n_jobs = -1, random_state = SEED)\n",
    "\n",
    "RF_model.fit(x_train, y_train)\n",
    "y_hat_RF = RF_model.predict(x_test)\n",
    "\n",
    "# Evaluation Metrics\n",
    "RF_cross_val__avg_acc = cross_val_score(RF_model, x_train, y_train, cv = 5).mean()\n",
    "RF_precision = precision_score(y_test, y_hat_RF)\n",
    "RF_recall = recall_score(y_test, y_hat_RF)\n",
    "RF_f1_score = f1_score(y_test, y_hat_RF)\n",
    "RF_Kappa_score = cohen_kappa_score(y_test, y_hat_RF)\n",
    "RF_balanced_acc = balanced_accuracy_score(y_test, y_hat_RF)\n",
    "\n",
    "RF_metrics = pd.DataFrame({'model':['Random Forest Classifier'],\n",
    "                           'accuracy':[RF_cross_val__avg_acc],\n",
    "                           'precision':[RF_precision],\n",
    "                           'recall':[RF_recall],\n",
    "                           'f1_score':[RF_f1_score],\n",
    "                           'kappa_score':[RF_Kappa_score],\n",
    "                           'balanced accuracy':[RF_balanced_acc]})\n",
    "\n",
    "RF_metrics\n",
    "'''"
   ]
  },
  {
   "cell_type": "code",
   "execution_count": null,
   "id": "weird-determination",
   "metadata": {
    "ExecuteTime": {
     "end_time": "2021-03-19T23:09:54.699483Z",
     "start_time": "2021-03-19T23:09:54.694488Z"
    },
    "execution": {
     "iopub.status.busy": "2021-03-25T16:07:58.290399Z",
     "iopub.status.idle": "2021-03-25T16:07:58.291399Z"
    },
    "hidden": true
   },
   "outputs": [],
   "source": [
    "#print(classification_report(y_test, y_hat_RF))"
   ]
  },
  {
   "cell_type": "code",
   "execution_count": null,
   "id": "german-comparative",
   "metadata": {
    "ExecuteTime": {
     "end_time": "2021-03-19T23:09:54.707479Z",
     "start_time": "2021-03-19T23:09:54.703482Z"
    },
    "execution": {
     "iopub.status.busy": "2021-03-25T16:07:58.293398Z",
     "iopub.status.idle": "2021-03-25T16:07:58.294397Z"
    },
    "hidden": true
   },
   "outputs": [],
   "source": [
    "# Cross Validation RandomForest\n",
    "\n",
    "#cross_val_score(RF_model, x_train, y_train, cv = 5)"
   ]
  },
  {
   "cell_type": "markdown",
   "id": "monetary-bryan",
   "metadata": {
    "heading_collapsed": true,
    "hidden": true
   },
   "source": [
    "### Second Cycle Random Forest"
   ]
  },
  {
   "cell_type": "code",
   "execution_count": null,
   "id": "funded-remark",
   "metadata": {
    "ExecuteTime": {
     "end_time": "2021-03-19T23:17:42.863275Z",
     "start_time": "2021-03-19T23:09:54.710477Z"
    },
    "execution": {
     "iopub.status.busy": "2021-03-25T16:07:58.295397Z",
     "iopub.status.idle": "2021-03-25T16:07:58.296398Z"
    },
    "hidden": true
   },
   "outputs": [],
   "source": [
    "RF_model_2 = RandomForestClassifier(n_estimators = 1500, n_jobs = -1, random_state = SEED)\n",
    "\n",
    "RF_model_2.fit(x_train_2, y_train_2)\n",
    "y_hat_RF_2 = RF_model_2.predict(x_test_2)\n",
    "\n",
    "# Evaluation Metrics\n",
    "RF2_cross_val__avg_acc = cross_val_score(RF_model_2, x_train_2, y_train_2, cv = 5).mean()\n",
    "RF2_precision = precision_score(y_test_2, y_hat_RF_2)\n",
    "RF2_recall = recall_score(y_test_2, y_hat_RF_2)\n",
    "RF2_f1_score = f1_score(y_test_2, y_hat_RF_2)\n",
    "RF2_Kappa_score = cohen_kappa_score(y_test_2, y_hat_RF_2)\n",
    "RF2_balanced_acc = balanced_accuracy_score(y_test_2, y_hat_RF_2)\n",
    "\n",
    "RF_metrics_2 = pd.DataFrame({'model':['Random Forest Classifier_2'],\n",
    "                            'accuracy':[RF2_cross_val__avg_acc],\n",
    "                            'precision':[RF2_precision],\n",
    "                            'recall':[RF2_recall],\n",
    "                            'f1_score':[RF2_f1_score],\n",
    "                            'kappa_score':[RF2_Kappa_score],\n",
    "                            'balanced accuracy':[RF2_balanced_acc]})\n",
    "\n",
    "RF_metrics_2"
   ]
  },
  {
   "cell_type": "markdown",
   "id": "established-debate",
   "metadata": {
    "heading_collapsed": true
   },
   "source": [
    "## XGBoost Classifier"
   ]
  },
  {
   "cell_type": "code",
   "execution_count": null,
   "id": "promising-photographer",
   "metadata": {
    "ExecuteTime": {
     "end_time": "2021-03-19T23:17:42.898255Z",
     "start_time": "2021-03-19T23:17:42.876267Z"
    },
    "execution": {
     "iopub.status.busy": "2021-03-25T16:07:58.298395Z",
     "iopub.status.idle": "2021-03-25T16:07:58.298395Z"
    },
    "hidden": true
   },
   "outputs": [],
   "source": [
    "'''\n",
    "XGB_model = xgb.XGBClassifier(n_jobs = -1)\n",
    "\n",
    "XGB_model.fit(x_train, y_train)\n",
    "y_hat_XGB = XGB_model.predict(x_test)\n",
    "\n",
    "# Evaluation Metrics\n",
    "XGB_cross_val__avg_acc = cross_val_score(XGB_model, x_train, y_train, cv = 5).mean()\n",
    "XGB_precision = precision_score(y_test, y_hat_XGB)\n",
    "XGB_recall = recall_score(y_test, y_hat_XGB)\n",
    "XGB_f1_score = f1_score(y_test, y_hat_XGB)\n",
    "XGB_Kappa_score = cohen_kappa_score(y_test, y_hat_XGB)\n",
    "XGB_balanced_acc = balanced_accuracy_score(y_test, y_hat_XGB)\n",
    "\n",
    "\n",
    "XGB_metrics = pd.DataFrame({'model':['XGB Classifier'],\n",
    "                           'accuracy':[XGB_cross_val__avg_acc],\n",
    "                           'precision':[XGB_precision],\n",
    "                           'recall':[XGB_recall],\n",
    "                           'f1_score':[XGB_f1_score],\n",
    "                           'kappa_score': [XGB_Kappa_score],\n",
    "                           'balanced accuracy':[XGB_balanced_acc]})\n",
    "\n",
    "XGB_metrics\n",
    "'''"
   ]
  },
  {
   "cell_type": "code",
   "execution_count": null,
   "id": "frequent-desktop",
   "metadata": {
    "ExecuteTime": {
     "end_time": "2021-03-19T23:17:42.912246Z",
     "start_time": "2021-03-19T23:17:42.906249Z"
    },
    "execution": {
     "iopub.status.busy": "2021-03-25T16:07:58.300394Z",
     "iopub.status.idle": "2021-03-25T16:07:58.301394Z"
    },
    "hidden": true
   },
   "outputs": [],
   "source": [
    "#print(classification_report(y_test, y_hat_XGB))"
   ]
  },
  {
   "cell_type": "code",
   "execution_count": null,
   "id": "based-metadata",
   "metadata": {
    "ExecuteTime": {
     "end_time": "2021-03-19T23:17:42.925237Z",
     "start_time": "2021-03-19T23:17:42.918241Z"
    },
    "execution": {
     "iopub.status.busy": "2021-03-25T16:07:58.302393Z",
     "iopub.status.idle": "2021-03-25T16:07:58.303393Z"
    },
    "hidden": true
   },
   "outputs": [],
   "source": [
    "# Cross Validation XGBoost Classifier\n",
    "\n",
    "#cross_val_score(XGB_model, x_train, y_train, cv = 5)"
   ]
  },
  {
   "cell_type": "markdown",
   "id": "invalid-afternoon",
   "metadata": {
    "ExecuteTime": {
     "end_time": "2021-03-17T23:04:39.642829Z",
     "start_time": "2021-03-17T23:04:39.633835Z"
    },
    "heading_collapsed": true,
    "hidden": true
   },
   "source": [
    "### Second Cycle XGBoost"
   ]
  },
  {
   "cell_type": "code",
   "execution_count": null,
   "id": "grateful-steel",
   "metadata": {
    "ExecuteTime": {
     "end_time": "2021-03-19T23:18:01.908680Z",
     "start_time": "2021-03-19T23:17:43.007187Z"
    },
    "execution": {
     "iopub.status.busy": "2021-03-25T16:07:58.304392Z",
     "iopub.status.idle": "2021-03-25T16:07:58.305392Z"
    },
    "hidden": true
   },
   "outputs": [],
   "source": [
    "XGB_model_2 = xgb.XGBClassifier(n_jobs = -1)\n",
    "\n",
    "XGB_model_2.fit(x_train_2, y_train_2)\n",
    "y_hat_XGB_2 = XGB_model_2.predict(x_test_2)\n",
    "\n",
    "# Evaluation Metrics\n",
    "XGB2_cross_val__avg_acc = cross_val_score(XGB_model_2, x_train_2, y_train_2, cv = 5).mean()\n",
    "XGB2_precision = precision_score(y_test_2, y_hat_XGB_2)\n",
    "XGB2_recall = recall_score(y_test_2, y_hat_XGB_2)\n",
    "XGB2_f1_score = f1_score(y_test_2, y_hat_XGB_2)\n",
    "XGB2_Kappa_score = cohen_kappa_score(y_test_2, y_hat_XGB_2)\n",
    "XGB2_balanced_acc = balanced_accuracy_score(y_test_2, y_hat_XGB_2)\n",
    "\n",
    "\n",
    "XGB_metrics_2 = pd.DataFrame({'model':['XGB2 Classifier'],\n",
    "                           'accuracy':[XGB2_cross_val__avg_acc],\n",
    "                           'precision':[XGB2_precision],\n",
    "                           'recall':[XGB2_recall],\n",
    "                           'f1_score':[XGB2_f1_score],\n",
    "                           'kappa_score': [XGB2_Kappa_score],\n",
    "                           'balanced accuracy':[XGB2_balanced_acc]})\n",
    "\n",
    "XGB_metrics_2"
   ]
  },
  {
   "cell_type": "markdown",
   "id": "optimum-profit",
   "metadata": {
    "heading_collapsed": true
   },
   "source": [
    "## LGBMClassifier"
   ]
  },
  {
   "cell_type": "code",
   "execution_count": null,
   "id": "modular-preparation",
   "metadata": {
    "ExecuteTime": {
     "end_time": "2021-03-19T23:18:01.923669Z",
     "start_time": "2021-03-19T23:18:01.913676Z"
    },
    "execution": {
     "iopub.status.busy": "2021-03-25T16:07:58.307392Z",
     "iopub.status.idle": "2021-03-25T16:07:58.307392Z"
    },
    "hidden": true,
    "scrolled": true
   },
   "outputs": [],
   "source": [
    "'''\n",
    "LGBM_model = LGBMClassifier(random_state = SEED, n_jobs = -1)\n",
    "\n",
    "LGBM_model.fit(x_train, y_train)\n",
    "y_hat_LGBM = LGBM_model.predict(x_test)\n",
    "\n",
    "LGBM_cross_val__avg_acc = cross_val_score(LGBM_model, x_train, y_train, cv = 5).mean()\n",
    "LGBM_precision = precision_score(y_test, y_hat_LGBM)\n",
    "LGBM_recall = recall_score(y_test, y_hat_LGBM)\n",
    "LGBM_f1_score = f1_score(y_test, y_hat_LGBM)\n",
    "LGBM_Kappa_score = cohen_kappa_score(y_test, y_hat_LGBM)\n",
    "LGBM_balanced_acc = balanced_accuracy_score(y_test, y_hat_LGBM)\n",
    "\n",
    "LGBM_metrics = pd.DataFrame({'model':['LGBM Classifier'],\n",
    "                           'accuracy':[LGBM_cross_val__avg_acc],\n",
    "                           'precision':[LGBM_precision],\n",
    "                           'recall':[LGBM_recall],\n",
    "                           'f1_score':[LGBM_f1_score],\n",
    "                           'kappa_score':[LGBM_Kappa_score],\n",
    "                           'balanced accuracy':[LGBM_balanced_acc]})\n",
    "\n",
    "LGBM_metrics\n",
    "'''"
   ]
  },
  {
   "cell_type": "code",
   "execution_count": null,
   "id": "familiar-conversation",
   "metadata": {
    "ExecuteTime": {
     "end_time": "2021-03-19T23:18:01.931666Z",
     "start_time": "2021-03-19T23:18:01.927669Z"
    },
    "execution": {
     "iopub.status.busy": "2021-03-25T16:07:58.309390Z",
     "iopub.status.idle": "2021-03-25T16:07:58.309390Z"
    },
    "hidden": true
   },
   "outputs": [],
   "source": [
    "#print(classification_report(y_test, y_hat_LGBM))"
   ]
  },
  {
   "cell_type": "markdown",
   "id": "rolled-batch",
   "metadata": {
    "heading_collapsed": true,
    "hidden": true
   },
   "source": [
    "### Second Cycle LGBM"
   ]
  },
  {
   "cell_type": "code",
   "execution_count": null,
   "id": "imposed-paradise",
   "metadata": {
    "ExecuteTime": {
     "end_time": "2021-03-19T23:18:06.526836Z",
     "start_time": "2021-03-19T23:18:01.936663Z"
    },
    "execution": {
     "iopub.status.busy": "2021-03-25T16:07:58.311387Z",
     "iopub.status.idle": "2021-03-25T16:07:58.312387Z"
    },
    "hidden": true
   },
   "outputs": [],
   "source": [
    "LGBM_model_2 = LGBMClassifier(random_state = SEED, n_jobs = -1)\n",
    "\n",
    "LGBM_model_2.fit(x_train_2, y_train_2)\n",
    "y_hat_LGBM_2 = LGBM_model_2.predict(x_test_2)\n",
    "\n",
    "LGBM2_cross_val__avg_acc = cross_val_score(LGBM_model_2, x_train_2, y_train_2, cv = 5).mean()\n",
    "LGBM2_precision = precision_score(y_test_2, y_hat_LGBM_2)\n",
    "LGBM2_recall = recall_score(y_test_2, y_hat_LGBM_2)\n",
    "LGBM2_f1_score = f1_score(y_test_2, y_hat_LGBM_2)\n",
    "LGBM2_Kappa_score = cohen_kappa_score(y_test_2, y_hat_LGBM_2)\n",
    "LGBM2_balanced_acc = balanced_accuracy_score(y_test_2, y_hat_LGBM_2)\n",
    "\n",
    "LGBM_metrics_2 = pd.DataFrame({'model':['LGBM Classifier_2'],\n",
    "                           'accuracy':[LGBM2_cross_val__avg_acc],\n",
    "                           'precision':[LGBM2_precision],\n",
    "                           'recall':[LGBM2_recall],\n",
    "                           'f1_score':[LGBM2_f1_score],\n",
    "                           'kappa_score':[LGBM2_Kappa_score],\n",
    "                           'balanced accuracy':[LGBM2_balanced_acc]})\n",
    "\n",
    "LGBM_metrics_2"
   ]
  },
  {
   "cell_type": "markdown",
   "id": "italic-preliminary",
   "metadata": {},
   "source": [
    "## Best Model"
   ]
  },
  {
   "cell_type": "code",
   "execution_count": null,
   "id": "extended-amplifier",
   "metadata": {
    "ExecuteTime": {
     "end_time": "2021-03-19T23:18:06.538828Z",
     "start_time": "2021-03-19T23:18:06.530833Z"
    },
    "execution": {
     "iopub.status.busy": "2021-03-25T16:07:58.313385Z",
     "iopub.status.idle": "2021-03-25T16:07:58.314387Z"
    }
   },
   "outputs": [],
   "source": [
    "'''\n",
    "best_model = pd.concat([KN_metrics, RF_metrics, XGB_metrics, LGBM_metrics], axis = 0)\n",
    "best_model.to_dict(orient = 'list')\n",
    "'''"
   ]
  },
  {
   "cell_type": "code",
   "execution_count": null,
   "id": "irish-arena",
   "metadata": {
    "ExecuteTime": {
     "end_time": "2021-03-19T23:18:06.946579Z",
     "start_time": "2021-03-19T23:18:06.542827Z"
    },
    "execution": {
     "iopub.status.busy": "2021-03-25T16:07:58.316384Z",
     "iopub.status.idle": "2021-03-25T16:07:58.317384Z"
    }
   },
   "outputs": [],
   "source": [
    "best_model = {'model': ['KNN Classifier', 'Random Forest Classifier', 'XGB Classifier',  'LGBM Classifier'],\n",
    "              'accuracy': [0.6837014294649963, 0.710333829609155, 0.7292178803841046, 0.7346494827855189],\n",
    "              'precision': [0.687083230427266, 0.7082386703336123, 0.7424376661182129, 0.7484748347737672],\n",
    "              'recall': [0.6562868601085161, 0.6986317527718802, 0.6919084689785326, 0.694621372965322],\n",
    "              'f1_score': [0.6713320463320464, 0.7034024107832076, 0.7162830453629648, 0.720543252171785],\n",
    "              'kappa_score': [0.36329189535803186, 0.416409265094589, 0.45678356204913095, 0.46599838690652906],\n",
    "              'balanced accuracy': [0.6815677706373214, 0.7081775145164353, 0.7282425269464621, 0.7328382200319438]}\n",
    "\n",
    "best_model = pd.DataFrame(best_model)\n",
    "best_model.sort_values(by = 'accuracy', ascending = False, inplace = True)\n",
    "best_model.reset_index(inplace = True, drop = True)\n",
    "\n",
    "best_model.style.highlight_max(color = 'darkorange')"
   ]
  },
  {
   "cell_type": "markdown",
   "id": "material-applicant",
   "metadata": {},
   "source": [
    "## Hyperparameter Fine Tunning - Random Search - XGBoost"
   ]
  },
  {
   "cell_type": "code",
   "execution_count": null,
   "id": "painful-beginning",
   "metadata": {
    "ExecuteTime": {
     "end_time": "2021-03-19T23:18:06.958570Z",
     "start_time": "2021-03-19T23:18:06.950575Z"
    },
    "execution": {
     "iopub.status.busy": "2021-03-25T16:07:58.318382Z",
     "iopub.status.idle": "2021-03-25T16:07:58.319382Z"
    }
   },
   "outputs": [],
   "source": [
    "params = {\n",
    "    'n_estimators': [1500, 1700, 2500, 3000, 3500],\n",
    "    'max_depth': [3, 5, 9],\n",
    "    'subsample': [0.1, 0.5, 0.7], \n",
    "    'colsample_bytree': [0.3, 0.7, 0.9],\n",
    "    'min_child_weight': [3, 8, 15]\n",
    "        }\n",
    "\n",
    "MAX_EVAL = 10"
   ]
  },
  {
   "cell_type": "code",
   "execution_count": null,
   "id": "flexible-reduction",
   "metadata": {
    "ExecuteTime": {
     "end_time": "2021-03-19T23:18:06.971564Z",
     "start_time": "2021-03-19T23:18:06.962567Z"
    },
    "execution": {
     "iopub.status.busy": "2021-03-25T16:07:58.320381Z",
     "iopub.status.idle": "2021-03-25T16:07:58.321381Z"
    },
    "scrolled": true
   },
   "outputs": [],
   "source": [
    "'''\n",
    "results_list = []\n",
    "\n",
    "for p in range(MAX_EVAL):\n",
    "    # Choose values for parameters randomly\n",
    "    hp = {k: random.sample(v, 1)[0]for k, v in params.items()}\n",
    "    print(p, hp)\n",
    "    \n",
    "    # model\n",
    "    xgb_model = xgb.XGBClassifier(n_estimator = hp['n_estimators'],\n",
    "                                  max_depth = hp['max_depth'],\n",
    "                                  subsample = hp['subsample'],\n",
    "                                  colsample_bytree = hp['colsample_bytree'],\n",
    "                                  min_child_weight = hp['min_child_weight'])\n",
    "    \n",
    "    # Performance\n",
    "    result = cross_val_score(xgb_model, x_train, y_train, cv = 5).mean()\n",
    "    results_list.append(result)\n",
    "    \n",
    "results_list\n",
    "'''"
   ]
  },
  {
   "cell_type": "code",
   "execution_count": null,
   "id": "elementary-monday",
   "metadata": {
    "ExecuteTime": {
     "end_time": "2021-03-19T23:18:06.981556Z",
     "start_time": "2021-03-19T23:18:06.976560Z"
    },
    "execution": {
     "iopub.status.busy": "2021-03-25T16:07:58.323381Z",
     "iopub.status.idle": "2021-03-25T16:07:58.323381Z"
    },
    "scrolled": true
   },
   "outputs": [],
   "source": [
    "#pd.DataFrame(results_list)"
   ]
  },
  {
   "cell_type": "code",
   "execution_count": null,
   "id": "inclusive-mandate",
   "metadata": {
    "ExecuteTime": {
     "end_time": "2021-03-19T23:18:06.995547Z",
     "start_time": "2021-03-19T23:18:06.986554Z"
    },
    "execution": {
     "iopub.status.busy": "2021-03-25T16:07:58.325379Z",
     "iopub.status.idle": "2021-03-25T16:07:58.326378Z"
    }
   },
   "outputs": [],
   "source": [
    "best_xbg = {'n_estimators': 1500,\n",
    "            'max_depth': 3,\n",
    "            'subsample': 0.1,\n",
    "            'colsample_bytree': 0.3,\n",
    "            'min_child_weight': 15,\n",
    "            'n_jobs': -1}"
   ]
  },
  {
   "cell_type": "code",
   "execution_count": null,
   "id": "ahead-pattern",
   "metadata": {
    "ExecuteTime": {
     "end_time": "2021-03-19T23:20:15.204526Z",
     "start_time": "2021-03-19T23:18:06.999546Z"
    },
    "execution": {
     "iopub.status.busy": "2021-03-25T16:07:58.327378Z",
     "iopub.status.idle": "2021-03-25T16:07:58.328377Z"
    }
   },
   "outputs": [],
   "source": [
    "XGB_model = xgb.XGBClassifier(n_estimators = 1500,\n",
    "                              max_depth = 3,\n",
    "                              subsample = 0.1,\n",
    "                              colsample_bytree = 0.3,\n",
    "                              min_child_weight = 15,\n",
    "                              n_jobs = -1)\n",
    "\n",
    "XGB_model.fit(x_train, y_train)\n",
    "y_hat_XGB = XGB_model.predict(x_test)\n",
    "\n",
    "# Evaluation Metrics\n",
    "XGB_cross_val__avg_acc = cross_val_score(XGB_model, x_train, y_train, cv = 5).mean()\n",
    "XGB_precision = precision_score(y_test, y_hat_XGB)\n",
    "XGB_recall = recall_score(y_test, y_hat_XGB)\n",
    "XGB_f1_score = f1_score(y_test, y_hat_XGB)\n",
    "XGB_Kappa_score = cohen_kappa_score(y_test, y_hat_XGB)\n",
    "XGB_balanced_acc = balanced_accuracy_score(y_test, y_hat_XGB)\n",
    "\n",
    "\n",
    "XGB_metrics = pd.DataFrame({'model':['XGB Classifier'],\n",
    "                           'accuracy':[XGB_cross_val__avg_acc],\n",
    "                           'precision':[XGB_precision],\n",
    "                           'recall':[XGB_recall],\n",
    "                           'f1_score':[XGB_f1_score],\n",
    "                           'kappa_score': [XGB_Kappa_score],\n",
    "                           'balanced accuracy':[XGB_balanced_acc]})\n",
    "\n",
    "XGB_metrics"
   ]
  },
  {
   "cell_type": "markdown",
   "id": "binary-turtle",
   "metadata": {},
   "source": [
    "## Hyperparameter Fine Tunning - Random Search - LGBM\n",
    "\n",
    "    - Using RandomizedSearchCV."
   ]
  },
  {
   "cell_type": "code",
   "execution_count": null,
   "id": "electronic-philosophy",
   "metadata": {
    "ExecuteTime": {
     "end_time": "2021-03-19T23:20:15.219515Z",
     "start_time": "2021-03-19T23:20:15.207522Z"
    },
    "execution": {
     "iopub.status.busy": "2021-03-25T16:07:58.329378Z",
     "iopub.status.idle": "2021-03-25T16:07:58.330376Z"
    }
   },
   "outputs": [],
   "source": [
    "params_lgbm = {'max_depth': np.arange(2, 12, 2), \n",
    "               'num_leaves': 2 ** np.arange(2, 10, 2),\n",
    "               'min_data_in_leaf': np.arange(100, 1050, 50), \n",
    "               'learning_rate': np.linspace(0.001, 0.6, 15),\n",
    "               'colsample_bytree': np.linspace(0.1, 1, 5),\n",
    "               'subsample': np.linspace(0.25, 1, 15),\n",
    "               'n_estimators': np.arange(10, 105, 15)}"
   ]
  },
  {
   "cell_type": "code",
   "execution_count": null,
   "id": "executive-plumbing",
   "metadata": {
    "ExecuteTime": {
     "end_time": "2021-03-19T23:22:30.032026Z",
     "start_time": "2021-03-19T23:20:15.224512Z"
    },
    "execution": {
     "iopub.status.busy": "2021-03-25T16:07:58.331375Z",
     "iopub.status.idle": "2021-03-25T16:07:58.332375Z"
    },
    "scrolled": true
   },
   "outputs": [],
   "source": [
    "LGBM_model = LGBMClassifier()\n",
    "\n",
    "lgbm_classifier = RandomizedSearchCV(estimator = LGBM_model, param_distributions = params_lgbm,\n",
    "                                scoring='f1', n_iter=100, cv=5, verbose=2,\n",
    "                                random_state=SEED, n_jobs=-1)\n",
    "\n",
    "lgbm_classifier.fit(x_train, y_train)\n",
    "lgbm_classifier.best_estimator_"
   ]
  },
  {
   "cell_type": "code",
   "execution_count": null,
   "id": "quantitative-cooking",
   "metadata": {
    "ExecuteTime": {
     "end_time": "2021-03-19T23:25:03.480571Z",
     "start_time": "2021-03-19T23:25:01.646706Z"
    },
    "execution": {
     "iopub.status.busy": "2021-03-25T16:07:58.334374Z",
     "iopub.status.idle": "2021-03-25T16:07:58.335373Z"
    },
    "scrolled": true
   },
   "outputs": [],
   "source": [
    "LGBM_model = LGBMClassifier(colsample_bytree=0.55,\n",
    "                            learning_rate=0.4716428571428571,\n",
    "                            max_depth=10,\n",
    "                            min_data_in_leaf=650,\n",
    "                            n_estimators=25,\n",
    "                            num_leaves=4,\n",
    "                            random_state=43,\n",
    "                            subsample=0.4107142857142857)\n",
    "\n",
    "LGBM_model.fit(x_train, y_train)\n",
    "y_hat_LGBM = LGBM_model.predict(x_test)\n",
    "\n",
    "LGBM_cross_val__avg_acc = cross_val_score(LGBM_model, x_train, y_train, cv = 5).mean()\n",
    "LGBM_precision = precision_score(y_test, y_hat_LGBM)\n",
    "LGBM_recall = recall_score(y_test, y_hat_LGBM)\n",
    "LGBM_f1_score = f1_score(y_test, y_hat_LGBM)\n",
    "LGBM_Kappa_score = cohen_kappa_score(y_test, y_hat_LGBM)\n",
    "LGBM_balanced_acc = balanced_accuracy_score(y_test, y_hat_LGBM)\n",
    "\n",
    "LGBM_metrics = pd.DataFrame({'model':['LGBM Classifier'],\n",
    "                           'accuracy':[LGBM_cross_val__avg_acc],\n",
    "                           'precision':[LGBM_precision],\n",
    "                           'recall':[LGBM_recall],\n",
    "                           'f1_score':[LGBM_f1_score],\n",
    "                           'kappa_score':[LGBM_Kappa_score],\n",
    "                           'balanced accuracy':[LGBM_balanced_acc]})\n",
    "\n",
    "LGBM_metrics"
   ]
  },
  {
   "cell_type": "markdown",
   "id": "metropolitan-enzyme",
   "metadata": {},
   "source": [
    "### Second Cycle - LGBM"
   ]
  },
  {
   "cell_type": "code",
   "execution_count": null,
   "id": "tough-stupid",
   "metadata": {
    "ExecuteTime": {
     "end_time": "2021-03-19T23:24:38.913655Z",
     "start_time": "2021-03-19T23:22:34.322384Z"
    },
    "execution": {
     "iopub.status.busy": "2021-03-25T16:07:58.336372Z",
     "iopub.status.idle": "2021-03-25T16:07:58.337371Z"
    }
   },
   "outputs": [],
   "source": [
    "LGBM_model_2 = LGBMClassifier()\n",
    "\n",
    "lgbm_classifier_2 = RandomizedSearchCV(estimator = LGBM_model_2, param_distributions = params_lgbm,\n",
    "                                scoring='f1', n_iter=100, cv=5, verbose=2,\n",
    "                                random_state=SEED, n_jobs=-1)\n",
    "\n",
    "lgbm_classifier_2.fit(x_train_2, y_train_2)\n",
    "lgbm_classifier_2.best_estimator_"
   ]
  },
  {
   "cell_type": "code",
   "execution_count": null,
   "id": "european-dominant",
   "metadata": {
    "ExecuteTime": {
     "end_time": "2021-03-19T23:24:41.212825Z",
     "start_time": "2021-03-19T23:24:38.919651Z"
    },
    "execution": {
     "iopub.status.busy": "2021-03-25T16:07:58.339371Z",
     "iopub.status.idle": "2021-03-25T16:07:58.340370Z"
    }
   },
   "outputs": [],
   "source": [
    "# Second Cycle\n",
    "\n",
    "LGBM_model_2 = LGBMClassifier(colsample_bytree=0.325,\n",
    "                              learning_rate=0.4716428571428571,\n",
    "                              max_depth=6, min_data_in_leaf=850,\n",
    "                              n_estimators=25,\n",
    "                              num_leaves=16,\n",
    "                              subsample=0.35714285714285715)\n",
    "\n",
    "LGBM_model_2.fit(x_train_2, y_train_2)\n",
    "y_hat_LGBM_2 = LGBM_model_2.predict(x_test_2)\n",
    "\n",
    "LGBM2_cross_val__avg_acc = cross_val_score(LGBM_model_2, x_train_2, y_train_2, cv = 5).mean()\n",
    "LGBM2_precision = precision_score(y_test_2, y_hat_LGBM_2)\n",
    "LGBM2_recall = recall_score(y_test_2, y_hat_LGBM_2)\n",
    "LGBM2_f1_score = f1_score(y_test_2, y_hat_LGBM_2)\n",
    "LGBM2_Kappa_score = cohen_kappa_score(y_test_2, y_hat_LGBM_2)\n",
    "LGBM2_balanced_acc = balanced_accuracy_score(y_test_2, y_hat_LGBM_2)\n",
    "\n",
    "LGBM_metrics_2 = pd.DataFrame({'model':['LGBM Classifier_2'],\n",
    "                           'accuracy':[LGBM2_cross_val__avg_acc],\n",
    "                           'precision':[LGBM2_precision],\n",
    "                           'recall':[LGBM2_recall],\n",
    "                           'f1_score':[LGBM2_f1_score],\n",
    "                           'kappa_score':[LGBM2_Kappa_score],\n",
    "                           'balanced accuracy':[LGBM2_balanced_acc]})\n",
    "\n",
    "LGBM_metrics_2"
   ]
  },
  {
   "cell_type": "markdown",
   "id": "mathematical-creation",
   "metadata": {},
   "source": [
    "### Third Cycle - LGBM"
   ]
  },
  {
   "cell_type": "code",
   "execution_count": null,
   "id": "martial-suicide",
   "metadata": {
    "ExecuteTime": {
     "end_time": "2021-03-19T23:27:20.284110Z",
     "start_time": "2021-03-19T23:25:32.905242Z"
    },
    "execution": {
     "iopub.status.busy": "2021-03-25T16:07:58.341369Z",
     "iopub.status.idle": "2021-03-25T16:07:58.342368Z"
    }
   },
   "outputs": [],
   "source": [
    "LGBM_model_3 = LGBMClassifier()\n",
    "\n",
    "lgbm_classifier_3 = RandomizedSearchCV(estimator = LGBM_model_3, param_distributions = params_lgbm,\n",
    "                                scoring='f1', n_iter=100, cv=5, verbose=2,\n",
    "                                random_state=SEED, n_jobs=-1)\n",
    "\n",
    "lgbm_classifier_3.fit(x3_train, y3_train)\n",
    "lgbm_classifier_3.best_estimator_"
   ]
  },
  {
   "cell_type": "code",
   "execution_count": null,
   "id": "younger-sandwich",
   "metadata": {
    "ExecuteTime": {
     "end_time": "2021-03-19T23:28:07.269961Z",
     "start_time": "2021-03-19T23:28:05.341150Z"
    },
    "execution": {
     "iopub.status.busy": "2021-03-25T16:07:58.344368Z",
     "iopub.status.idle": "2021-03-25T16:07:58.344368Z"
    }
   },
   "outputs": [],
   "source": [
    "# Third Cycle\n",
    "\n",
    "LGBM_model_3 = LGBMClassifier(colsample_bytree=0.325,\n",
    "                              learning_rate=0.4716428571428571,\n",
    "                              max_depth=10, min_data_in_leaf=650,\n",
    "                              n_estimators=25,\n",
    "                              num_leaves=4,\n",
    "                              subsample=0.4107142857142857)\n",
    "\n",
    "LGBM_model_3.fit(x3_train, y3_train)\n",
    "y_hat_LGBM_3 = LGBM_model_3.predict(x3_test)\n",
    "\n",
    "LGBM3_cross_val__avg_acc = cross_val_score(LGBM_model_3, x3_train, y3_train, cv = 5).mean()\n",
    "LGBM3_precision = precision_score(y3_test, y_hat_LGBM_3)\n",
    "LGBM3_recall = recall_score(y3_test, y_hat_LGBM_3)\n",
    "LGBM3_f1_score = f1_score(y3_test, y_hat_LGBM_3)\n",
    "LGBM3_Kappa_score = cohen_kappa_score(y3_test, y_hat_LGBM_3)\n",
    "LGBM3_balanced_acc = balanced_accuracy_score(y3_test, y_hat_LGBM_3)\n",
    "\n",
    "LGBM_metrics_3 = pd.DataFrame({'model':['LGBM Classifier_3'],\n",
    "                           'accuracy':[LGBM3_cross_val__avg_acc],\n",
    "                           'precision':[LGBM3_precision],\n",
    "                           'recall':[LGBM3_recall],\n",
    "                           'f1_score':[LGBM3_f1_score],\n",
    "                           'kappa_score':[LGBM3_Kappa_score],\n",
    "                           'balanced accuracy':[LGBM3_balanced_acc]})\n",
    "\n",
    "LGBM_metrics_3"
   ]
  },
  {
   "cell_type": "markdown",
   "id": "helpful-pakistan",
   "metadata": {},
   "source": [
    "### Final Results"
   ]
  },
  {
   "cell_type": "code",
   "execution_count": null,
   "id": "operating-static",
   "metadata": {
    "ExecuteTime": {
     "end_time": "2021-03-19T23:40:14.613470Z",
     "start_time": "2021-03-19T23:40:14.578494Z"
    },
    "execution": {
     "iopub.status.busy": "2021-03-25T16:07:58.346366Z",
     "iopub.status.idle": "2021-03-25T16:07:58.346366Z"
    }
   },
   "outputs": [],
   "source": [
    "LGBM_final_result = pd.concat([LGBM_metrics, LGBM_metrics_2, LGBM_metrics_3])\n",
    "LGBM_final_result.reset_index(drop = True).style.highlight_max(color = 'darkorange')"
   ]
  },
  {
   "cell_type": "markdown",
   "id": "important-private",
   "metadata": {},
   "source": [
    "**The third cycle, done with feture rescaling, perfomed a little better, so we will use it as final model.**"
   ]
  },
  {
   "cell_type": "markdown",
   "id": "herbal-julian",
   "metadata": {},
   "source": [
    "### Saving Final Model"
   ]
  },
  {
   "cell_type": "code",
   "execution_count": null,
   "id": "comparative-survival",
   "metadata": {
    "ExecuteTime": {
     "end_time": "2021-03-20T19:16:46.346566Z",
     "start_time": "2021-03-20T19:16:46.267616Z"
    },
    "execution": {
     "iopub.status.busy": "2021-03-25T16:07:58.348366Z",
     "iopub.status.idle": "2021-03-25T16:07:58.349364Z"
    }
   },
   "outputs": [],
   "source": [
    "pickle.dump(LGBM_model_3, open('C:\\\\Users\\\\felip\\\\repos\\\\cardio\\\\Cardiovascular-disease-prediction\\\\Model\\\\LGBM_cardio_disease_predictor.pkl', 'wb'))"
   ]
  },
  {
   "cell_type": "markdown",
   "id": "stuffed-relevance",
   "metadata": {},
   "source": [
    "# Test Predictions"
   ]
  },
  {
   "cell_type": "code",
   "execution_count": null,
   "id": "broadband-bones",
   "metadata": {
    "ExecuteTime": {
     "end_time": "2021-03-20T20:46:25.419153Z",
     "start_time": "2021-03-20T20:46:25.403163Z"
    },
    "execution": {
     "iopub.status.busy": "2021-03-25T16:07:58.351362Z",
     "iopub.status.idle": "2021-03-25T16:07:58.351362Z"
    }
   },
   "outputs": [],
   "source": [
    "import pandas as pd\n",
    "\n",
    "def prediction_simulation():\n",
    "    print('Please, imput patient informations: ')\n",
    "    \n",
    "    # Patient Infos\n",
    "    age                = int(input('Age (years): '))\n",
    "    gender             = int(input('Gender (1: Women, 2: Men): '))\n",
    "    height             = int(input('Height (centimeters): '))\n",
    "    weight             = int(input('Weight (kg): '))\n",
    "    ap_hi              = int(input('Blood pressure - HI: '))\n",
    "    ap_lo              = int(input('Blood pressure - LO: '))\n",
    "    cholesterol        = int(input('Cholesterol (1: normal, 2: above normal, 3: well above normal): '))\n",
    "    gluc               = int(input('Glucose (1: normal, 2: above normal, 3: well above normal): '))\n",
    "    smoke              = int(input('Smoker (0: No, 1: Yes): '))\n",
    "    alco               = int(input('Alcoolic (0: No, 1: Yes): '))\n",
    "    active             = int(input('Physical activity (0: No, 1: Yes): '))\n",
    "    \n",
    "    # Creating BMI Feature\n",
    "    bmi = (weight/(height/100)**2)\n",
    "\n",
    "    # Categorizing BMI\n",
    "    cat_weight = cat_bmi(bmi)\n",
    "\n",
    "    # Categorizing Blood Pressure\n",
    "    cat_blood_pressure =   float(0 if ap_hi < 120 and ap_lo < 80 else\n",
    "                           1 if 120 <= ap_hi < 130 and ap_lo < 80 else\n",
    "                           2 if 130 <= ap_hi < 140 or 80 <= ap_lo < 90 else\n",
    "                           3 if 140 <= ap_hi <= 180 or 90 <= ap_lo <= 120\n",
    "                           else 4)\n",
    "    \n",
    "    '''\n",
    "    # rescale features\n",
    "    age = mms.fit_transform(age)\n",
    "\n",
    "    height = rbs.fit_transform(height)\n",
    "\n",
    "    weight = rbs.fit_transform(weight)\n",
    "\n",
    "    ap_hi = rbs.fit_transform(ap_hi)\n",
    "\n",
    "    ap_lo = rbs.fit_transform(ap_lo)\n",
    "\n",
    "    cholesterol = rbs.fit_transform(cholesterol)\n",
    "\n",
    "\n",
    "    bmi = rbs.fit_transform(bmi)\n",
    "\n",
    "    cat_weight = rbs.fit_transform(cat_weight)\n",
    "\n",
    "    cat_blood_pressure = rbs.fit_transform(cat_blood_pressure)\n",
    "    '''\n",
    "    \n",
    "    columns = ['age', 'gender', 'height', 'weight', 'hight_pressure', 'low_pressure',\n",
    "               'cholesterol', 'glucose', 'smoker', 'alcohol', 'active', 'bmi', 'cat_weight', 'cat_blood_pressure']\n",
    "    \n",
    "    patient_infos = [[age, gender, height, weight, ap_hi, ap_lo, cholesterol, gluc,\n",
    "                      smoke, alco, active, bmi, cat_weight, cat_blood_pressure]]\n",
    "    df_test = pd.DataFrame(patient_infos, columns=columns)\n",
    "    \n",
    "    #return json.dumps(df_test.to_dict(orient='records'))\n",
    "    return df_test"
   ]
  },
  {
   "cell_type": "code",
   "execution_count": null,
   "id": "blessed-penalty",
   "metadata": {
    "ExecuteTime": {
     "end_time": "2021-03-20T20:46:48.417140Z",
     "start_time": "2021-03-20T20:46:28.331090Z"
    },
    "execution": {
     "iopub.status.busy": "2021-03-25T16:07:58.353363Z",
     "iopub.status.idle": "2021-03-25T16:07:58.353363Z"
    }
   },
   "outputs": [],
   "source": [
    "LGBM_model.predict(prediction_simulation())"
   ]
  },
  {
   "cell_type": "markdown",
   "id": "great-basin",
   "metadata": {},
   "source": [
    "# Work Diary\n",
    "\n",
    "* 10/03/21 - Started Cardiovascular_disease_prediction project\n",
    "    - Done some data description analysis.\n",
    "    - Started Feature Enginnering.\n",
    "    \n",
    "    \n",
    "* 11/03/21 - Done some more fearture enginnering.\n",
    "    - Finished first sicle of feature enginnering.\n",
    "    - started EDA\n",
    "    \n",
    "    \n",
    "* 13/03/21 - EDA.\n",
    "    - Done some graph analysis.\n",
    "    \n",
    "    \n",
    "* 15/03/21 - ML models\n",
    "    - Testing some Classifier ML algorithms.\n",
    "    - Evaluate ML algorithms performance.\n",
    "    \n",
    "    \n",
    "* 16/03/21\n",
    "    - Done finetunning for XGBoost and LGBM Classifiers.\n",
    "    - Test RandomizedSearchCV for LGBM.\n",
    "    \n",
    "    - Best Results:\n",
    "    \n",
    "|model          |accuracy|precision|recall  |f1_score|kappa_score|balanced accuracy|\n",
    "|---------------|:------:|:-------:|:------:|:------:|:---------:|:---------------:|\n",
    "|LGBM Classifier|0.735097|0.750288 |0.692498|0.720236|0.466791   |0.733223         |\n",
    "\n",
    "\n",
    "**Second Cycle.**\n",
    "\n",
    "\n",
    "\n",
    "* 17/03/2021 - Second Cycle.\n",
    "    - Done some more univariated and bivariated analysis.\n",
    "    - Tried to exclude some redundant features in order to see how the models perform.\n",
    "        - The models performed worst.\n",
    "        \n",
    "\n",
    "|cycle|model          |accuracy|precision|recall  |f1_score|kappa_score|balanced accuracy|\n",
    "|-----|---------------|:------:|:-------:|:------:|:------:|:---------:|:---------------:|\n",
    "|1    |LGBM Classifier|0.735097|0.750288 |0.692498|0.720236|0.466791   |0.733223         |        \n",
    "|2    |LGBM Classifier_2\t|0.702051\t|0.702559\t|0.670481\t|0.686145\t|0.392246\t|0.696037|\n",
    "\n",
    "\n",
    "**Third Cycle**\n",
    "\n",
    "* 19/03/2021 - Third Cycle\n",
    "    - Done feature rescaling in order to improove model metrics\n",
    "        - The model with rescaled features performed a little better, so we will use it.\n",
    "        \n",
    "        \n",
    "|cycle|model          |accuracy|precision|recall  |f1_score|kappa_score|balanced accuracy|\n",
    "|-----|---------------|:------:|:-------:|:------:|:------:|:---------:|:---------------:|\n",
    "|1    |LGBM Classifier|0.735097|0.750288 |0.692498|0.720236|0.466791   |0.733223         |        \n",
    "|2    |LGBM Classifier_2|0.702051\t|0.702559\t|0.670481\t|0.686145\t|0.392246\t|0.696037|\n",
    "|3    |LGBM Classifier_3|0.731222\t|0.752233\t|0.688571\t|0.718996\t|0.467492\t|0.733517|\n",
    "\n",
    "\n",
    "* 20/03/2021 - Finished Project\n",
    "    - Project finished"
   ]
  },
  {
   "cell_type": "code",
   "execution_count": null,
   "id": "interpreted-tablet",
   "metadata": {},
   "outputs": [],
   "source": []
  }
 ],
 "metadata": {
  "kernelspec": {
   "display_name": "Python 3",
   "language": "python",
   "name": "python3"
  },
  "language_info": {
   "codemirror_mode": {
    "name": "ipython",
    "version": 3
   },
   "file_extension": ".py",
   "mimetype": "text/x-python",
   "name": "python",
   "nbconvert_exporter": "python",
   "pygments_lexer": "ipython3",
   "version": "3.8.8"
  },
  "toc": {
   "base_numbering": 1,
   "nav_menu": {},
   "number_sections": true,
   "sideBar": true,
   "skip_h1_title": false,
   "title_cell": "Table of Contents",
   "title_sidebar": "Contents",
   "toc_cell": false,
   "toc_position": {},
   "toc_section_display": true,
   "toc_window_display": false
  }
 },
 "nbformat": 4,
 "nbformat_minor": 5
}
