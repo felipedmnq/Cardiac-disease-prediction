{
 "cells": [
  {
   "cell_type": "markdown",
   "id": "positive-generation",
   "metadata": {},
   "source": [
    "# Cardiovascular Desease Prediction Project.\n",
    "\n",
    "This project is for education purposes. here I will exercise skills in machine learning, more precisely classification algorithms.\n",
    "\n",
    "[data source: Kaggle](https://www.kaggle.com/sulianova/cardiovascular-disease-dataset/code)\n",
    "\n",
    "\n",
    "**Data Description:**\n",
    "\n",
    "There are 3 types of input features:\n",
    "\n",
    "* Objective: factual information;\n",
    "* Examination: results of medical examination;\n",
    "* Subjective: information given by the patient.\n",
    "\n",
    "Features:\n",
    "\n",
    "* Age | Objective Feature | age | int (days)\n",
    "* Height | Objective Feature | height | int (cm) |\n",
    "* Weight | Objective Feature | weight | float (kg) |\n",
    "* Gender | Objective Feature | gender | categorical code | 1 - women, 2 - men |\n",
    "* Systolic blood pressure | Examination Feature | ap_hi | int |\n",
    "* Diastolic blood pressure | Examination Feature | ap_lo | int |\n",
    "* Cholesterol | Examination Feature | cholesterol | 1: normal, 2: above normal, 3: well above normal |\n",
    "* Glucose | Examination Feature | gluc | 1: normal, 2: above normal, 3: well above normal |\n",
    "* Smoking | Subjective Feature | smoke | binary | 0: no, 1: yes |\n",
    "* Alcohol intake | Subjective Feature | alco | binary | 0: no, 1: yes |\n",
    "* Physical activity | Subjective Feature | active | binary | 0: no, 1: yes |\n",
    "* Presence or absence of cardiovascular disease | Target Variable | cardio | binary | 0: no, 1: yes |\n",
    "\n",
    "All of the dataset values were collected at the moment of medical examination."
   ]
  },
  {
   "cell_type": "markdown",
   "id": "eastern-original",
   "metadata": {},
   "source": [
    "# Imports"
   ]
  },
  {
   "cell_type": "code",
   "execution_count": 1,
   "id": "relevant-community",
   "metadata": {
    "ExecuteTime": {
     "end_time": "2021-03-10T23:20:01.843659Z",
     "start_time": "2021-03-10T23:19:59.830593Z"
    }
   },
   "outputs": [],
   "source": [
    "import numpy as np\n",
    "import pandas as pd\n",
    "import seaborn as sns\n",
    "import matplotlib.pyplot as plt\n"
   ]
  },
  {
   "cell_type": "markdown",
   "id": "behavioral-occurrence",
   "metadata": {},
   "source": [
    "# Helper Functions"
   ]
  },
  {
   "cell_type": "code",
   "execution_count": 2,
   "id": "sapphire-savannah",
   "metadata": {
    "ExecuteTime": {
     "end_time": "2021-03-10T23:20:01.871620Z",
     "start_time": "2021-03-10T23:20:01.846635Z"
    }
   },
   "outputs": [
    {
     "name": "stdout",
     "output_type": "stream",
     "text": [
      "Populating the interactive namespace from numpy and matplotlib\n"
     ]
    }
   ],
   "source": [
    "%matplotlib inline\n",
    "%pylab inline\n",
    "\n",
    "plt.style.use('bmh')\n",
    "plt.rcParams['figure.figsize'] = [16, 8]\n",
    "plt.rcParams['font.size'] = 18\n",
    "\n",
    "pd.options.display.max_columns = None\n",
    "pd.options.display.max_rows = None\n",
    "pd.set_option('display.expand_frame_repr', False)\n",
    "\n",
    "sns.set()\n"
   ]
  },
  {
   "cell_type": "markdown",
   "id": "august-string",
   "metadata": {},
   "source": [
    "# Load Data"
   ]
  },
  {
   "cell_type": "code",
   "execution_count": 3,
   "id": "mechanical-negative",
   "metadata": {
    "ExecuteTime": {
     "end_time": "2021-03-10T23:20:02.074496Z",
     "start_time": "2021-03-10T23:20:01.879616Z"
    }
   },
   "outputs": [
    {
     "data": {
      "text/html": [
       "<div>\n",
       "<style scoped>\n",
       "    .dataframe tbody tr th:only-of-type {\n",
       "        vertical-align: middle;\n",
       "    }\n",
       "\n",
       "    .dataframe tbody tr th {\n",
       "        vertical-align: top;\n",
       "    }\n",
       "\n",
       "    .dataframe thead th {\n",
       "        text-align: right;\n",
       "    }\n",
       "</style>\n",
       "<table border=\"1\" class=\"dataframe\">\n",
       "  <thead>\n",
       "    <tr style=\"text-align: right;\">\n",
       "      <th></th>\n",
       "      <th>age</th>\n",
       "      <th>gender</th>\n",
       "      <th>height</th>\n",
       "      <th>weight</th>\n",
       "      <th>ap_hi</th>\n",
       "      <th>ap_lo</th>\n",
       "      <th>cholesterol</th>\n",
       "      <th>gluc</th>\n",
       "      <th>smoke</th>\n",
       "      <th>alco</th>\n",
       "      <th>active</th>\n",
       "      <th>cardio</th>\n",
       "    </tr>\n",
       "    <tr>\n",
       "      <th>id</th>\n",
       "      <th></th>\n",
       "      <th></th>\n",
       "      <th></th>\n",
       "      <th></th>\n",
       "      <th></th>\n",
       "      <th></th>\n",
       "      <th></th>\n",
       "      <th></th>\n",
       "      <th></th>\n",
       "      <th></th>\n",
       "      <th></th>\n",
       "      <th></th>\n",
       "    </tr>\n",
       "  </thead>\n",
       "  <tbody>\n",
       "    <tr>\n",
       "      <th>0</th>\n",
       "      <td>18393</td>\n",
       "      <td>2</td>\n",
       "      <td>168</td>\n",
       "      <td>62.0</td>\n",
       "      <td>110</td>\n",
       "      <td>80</td>\n",
       "      <td>1</td>\n",
       "      <td>1</td>\n",
       "      <td>0</td>\n",
       "      <td>0</td>\n",
       "      <td>1</td>\n",
       "      <td>0</td>\n",
       "    </tr>\n",
       "    <tr>\n",
       "      <th>1</th>\n",
       "      <td>20228</td>\n",
       "      <td>1</td>\n",
       "      <td>156</td>\n",
       "      <td>85.0</td>\n",
       "      <td>140</td>\n",
       "      <td>90</td>\n",
       "      <td>3</td>\n",
       "      <td>1</td>\n",
       "      <td>0</td>\n",
       "      <td>0</td>\n",
       "      <td>1</td>\n",
       "      <td>1</td>\n",
       "    </tr>\n",
       "    <tr>\n",
       "      <th>2</th>\n",
       "      <td>18857</td>\n",
       "      <td>1</td>\n",
       "      <td>165</td>\n",
       "      <td>64.0</td>\n",
       "      <td>130</td>\n",
       "      <td>70</td>\n",
       "      <td>3</td>\n",
       "      <td>1</td>\n",
       "      <td>0</td>\n",
       "      <td>0</td>\n",
       "      <td>0</td>\n",
       "      <td>1</td>\n",
       "    </tr>\n",
       "    <tr>\n",
       "      <th>3</th>\n",
       "      <td>17623</td>\n",
       "      <td>2</td>\n",
       "      <td>169</td>\n",
       "      <td>82.0</td>\n",
       "      <td>150</td>\n",
       "      <td>100</td>\n",
       "      <td>1</td>\n",
       "      <td>1</td>\n",
       "      <td>0</td>\n",
       "      <td>0</td>\n",
       "      <td>1</td>\n",
       "      <td>1</td>\n",
       "    </tr>\n",
       "    <tr>\n",
       "      <th>4</th>\n",
       "      <td>17474</td>\n",
       "      <td>1</td>\n",
       "      <td>156</td>\n",
       "      <td>56.0</td>\n",
       "      <td>100</td>\n",
       "      <td>60</td>\n",
       "      <td>1</td>\n",
       "      <td>1</td>\n",
       "      <td>0</td>\n",
       "      <td>0</td>\n",
       "      <td>0</td>\n",
       "      <td>0</td>\n",
       "    </tr>\n",
       "  </tbody>\n",
       "</table>\n",
       "</div>"
      ],
      "text/plain": [
       "      age  gender  height  weight  ap_hi  ap_lo  cholesterol  gluc  smoke  alco  active  cardio\n",
       "id                                                                                             \n",
       "0   18393       2     168    62.0    110     80            1     1      0     0       1       0\n",
       "1   20228       1     156    85.0    140     90            3     1      0     0       1       1\n",
       "2   18857       1     165    64.0    130     70            3     1      0     0       0       1\n",
       "3   17623       2     169    82.0    150    100            1     1      0     0       1       1\n",
       "4   17474       1     156    56.0    100     60            1     1      0     0       0       0"
      ]
     },
     "execution_count": 3,
     "metadata": {},
     "output_type": "execute_result"
    }
   ],
   "source": [
    "df1 = pd.read_csv('C:\\\\Users\\\\felip\\\\repos\\\\cardio\\\\Cardiovascular-disease-prediction\\\\data\\\\cardio_train.csv',\n",
    "                 sep = ';', \n",
    "                 index_col = 'id')\n",
    "df1.head()"
   ]
  },
  {
   "cell_type": "markdown",
   "id": "developing-north",
   "metadata": {},
   "source": [
    "## Data Description"
   ]
  },
  {
   "cell_type": "code",
   "execution_count": 4,
   "id": "collectible-bargain",
   "metadata": {
    "ExecuteTime": {
     "end_time": "2021-03-10T23:20:02.087487Z",
     "start_time": "2021-03-10T23:20:02.077493Z"
    },
    "scrolled": true
   },
   "outputs": [
    {
     "data": {
      "text/plain": [
       "age              int64\n",
       "gender           int64\n",
       "height           int64\n",
       "weight         float64\n",
       "ap_hi            int64\n",
       "ap_lo            int64\n",
       "cholesterol      int64\n",
       "gluc             int64\n",
       "smoke            int64\n",
       "alco             int64\n",
       "active           int64\n",
       "cardio           int64\n",
       "dtype: object"
      ]
     },
     "execution_count": 4,
     "metadata": {},
     "output_type": "execute_result"
    }
   ],
   "source": [
    "df1.dtypes"
   ]
  },
  {
   "cell_type": "code",
   "execution_count": 5,
   "id": "joint-beverage",
   "metadata": {
    "ExecuteTime": {
     "end_time": "2021-03-10T23:20:02.103478Z",
     "start_time": "2021-03-10T23:20:02.091485Z"
    }
   },
   "outputs": [
    {
     "data": {
      "text/plain": [
       "0"
      ]
     },
     "execution_count": 5,
     "metadata": {},
     "output_type": "execute_result"
    }
   ],
   "source": [
    "# Cheking for NAN data.\n",
    "\n",
    "df1.isnull().sum().sum()"
   ]
  },
  {
   "cell_type": "code",
   "execution_count": 6,
   "id": "centered-grill",
   "metadata": {
    "ExecuteTime": {
     "end_time": "2021-03-10T23:20:02.255383Z",
     "start_time": "2021-03-10T23:20:02.108474Z"
    },
    "scrolled": false
   },
   "outputs": [
    {
     "data": {
      "text/html": [
       "<div>\n",
       "<style scoped>\n",
       "    .dataframe tbody tr th:only-of-type {\n",
       "        vertical-align: middle;\n",
       "    }\n",
       "\n",
       "    .dataframe tbody tr th {\n",
       "        vertical-align: top;\n",
       "    }\n",
       "\n",
       "    .dataframe thead th {\n",
       "        text-align: right;\n",
       "    }\n",
       "</style>\n",
       "<table border=\"1\" class=\"dataframe\">\n",
       "  <thead>\n",
       "    <tr style=\"text-align: right;\">\n",
       "      <th></th>\n",
       "      <th>count</th>\n",
       "      <th>mean</th>\n",
       "      <th>std</th>\n",
       "      <th>min</th>\n",
       "      <th>25%</th>\n",
       "      <th>50%</th>\n",
       "      <th>75%</th>\n",
       "      <th>max</th>\n",
       "    </tr>\n",
       "  </thead>\n",
       "  <tbody>\n",
       "    <tr>\n",
       "      <th>age</th>\n",
       "      <td>70000.0</td>\n",
       "      <td>19468.865814</td>\n",
       "      <td>2467.251667</td>\n",
       "      <td>10798.0</td>\n",
       "      <td>17664.0</td>\n",
       "      <td>19703.0</td>\n",
       "      <td>21327.0</td>\n",
       "      <td>23713.0</td>\n",
       "    </tr>\n",
       "    <tr>\n",
       "      <th>gender</th>\n",
       "      <td>70000.0</td>\n",
       "      <td>1.349571</td>\n",
       "      <td>0.476838</td>\n",
       "      <td>1.0</td>\n",
       "      <td>1.0</td>\n",
       "      <td>1.0</td>\n",
       "      <td>2.0</td>\n",
       "      <td>2.0</td>\n",
       "    </tr>\n",
       "    <tr>\n",
       "      <th>height</th>\n",
       "      <td>70000.0</td>\n",
       "      <td>164.359229</td>\n",
       "      <td>8.210126</td>\n",
       "      <td>55.0</td>\n",
       "      <td>159.0</td>\n",
       "      <td>165.0</td>\n",
       "      <td>170.0</td>\n",
       "      <td>250.0</td>\n",
       "    </tr>\n",
       "    <tr>\n",
       "      <th>weight</th>\n",
       "      <td>70000.0</td>\n",
       "      <td>74.205690</td>\n",
       "      <td>14.395757</td>\n",
       "      <td>10.0</td>\n",
       "      <td>65.0</td>\n",
       "      <td>72.0</td>\n",
       "      <td>82.0</td>\n",
       "      <td>200.0</td>\n",
       "    </tr>\n",
       "    <tr>\n",
       "      <th>ap_hi</th>\n",
       "      <td>70000.0</td>\n",
       "      <td>128.817286</td>\n",
       "      <td>154.011419</td>\n",
       "      <td>-150.0</td>\n",
       "      <td>120.0</td>\n",
       "      <td>120.0</td>\n",
       "      <td>140.0</td>\n",
       "      <td>16020.0</td>\n",
       "    </tr>\n",
       "    <tr>\n",
       "      <th>ap_lo</th>\n",
       "      <td>70000.0</td>\n",
       "      <td>96.630414</td>\n",
       "      <td>188.472530</td>\n",
       "      <td>-70.0</td>\n",
       "      <td>80.0</td>\n",
       "      <td>80.0</td>\n",
       "      <td>90.0</td>\n",
       "      <td>11000.0</td>\n",
       "    </tr>\n",
       "    <tr>\n",
       "      <th>cholesterol</th>\n",
       "      <td>70000.0</td>\n",
       "      <td>1.366871</td>\n",
       "      <td>0.680250</td>\n",
       "      <td>1.0</td>\n",
       "      <td>1.0</td>\n",
       "      <td>1.0</td>\n",
       "      <td>2.0</td>\n",
       "      <td>3.0</td>\n",
       "    </tr>\n",
       "    <tr>\n",
       "      <th>gluc</th>\n",
       "      <td>70000.0</td>\n",
       "      <td>1.226457</td>\n",
       "      <td>0.572270</td>\n",
       "      <td>1.0</td>\n",
       "      <td>1.0</td>\n",
       "      <td>1.0</td>\n",
       "      <td>1.0</td>\n",
       "      <td>3.0</td>\n",
       "    </tr>\n",
       "    <tr>\n",
       "      <th>smoke</th>\n",
       "      <td>70000.0</td>\n",
       "      <td>0.088129</td>\n",
       "      <td>0.283484</td>\n",
       "      <td>0.0</td>\n",
       "      <td>0.0</td>\n",
       "      <td>0.0</td>\n",
       "      <td>0.0</td>\n",
       "      <td>1.0</td>\n",
       "    </tr>\n",
       "    <tr>\n",
       "      <th>alco</th>\n",
       "      <td>70000.0</td>\n",
       "      <td>0.053771</td>\n",
       "      <td>0.225568</td>\n",
       "      <td>0.0</td>\n",
       "      <td>0.0</td>\n",
       "      <td>0.0</td>\n",
       "      <td>0.0</td>\n",
       "      <td>1.0</td>\n",
       "    </tr>\n",
       "    <tr>\n",
       "      <th>active</th>\n",
       "      <td>70000.0</td>\n",
       "      <td>0.803729</td>\n",
       "      <td>0.397179</td>\n",
       "      <td>0.0</td>\n",
       "      <td>1.0</td>\n",
       "      <td>1.0</td>\n",
       "      <td>1.0</td>\n",
       "      <td>1.0</td>\n",
       "    </tr>\n",
       "    <tr>\n",
       "      <th>cardio</th>\n",
       "      <td>70000.0</td>\n",
       "      <td>0.499700</td>\n",
       "      <td>0.500003</td>\n",
       "      <td>0.0</td>\n",
       "      <td>0.0</td>\n",
       "      <td>0.0</td>\n",
       "      <td>1.0</td>\n",
       "      <td>1.0</td>\n",
       "    </tr>\n",
       "  </tbody>\n",
       "</table>\n",
       "</div>"
      ],
      "text/plain": [
       "               count          mean          std      min      25%      50%      75%      max\n",
       "age          70000.0  19468.865814  2467.251667  10798.0  17664.0  19703.0  21327.0  23713.0\n",
       "gender       70000.0      1.349571     0.476838      1.0      1.0      1.0      2.0      2.0\n",
       "height       70000.0    164.359229     8.210126     55.0    159.0    165.0    170.0    250.0\n",
       "weight       70000.0     74.205690    14.395757     10.0     65.0     72.0     82.0    200.0\n",
       "ap_hi        70000.0    128.817286   154.011419   -150.0    120.0    120.0    140.0  16020.0\n",
       "ap_lo        70000.0     96.630414   188.472530    -70.0     80.0     80.0     90.0  11000.0\n",
       "cholesterol  70000.0      1.366871     0.680250      1.0      1.0      1.0      2.0      3.0\n",
       "gluc         70000.0      1.226457     0.572270      1.0      1.0      1.0      1.0      3.0\n",
       "smoke        70000.0      0.088129     0.283484      0.0      0.0      0.0      0.0      1.0\n",
       "alco         70000.0      0.053771     0.225568      0.0      0.0      0.0      0.0      1.0\n",
       "active       70000.0      0.803729     0.397179      0.0      1.0      1.0      1.0      1.0\n",
       "cardio       70000.0      0.499700     0.500003      0.0      0.0      0.0      1.0      1.0"
      ]
     },
     "execution_count": 6,
     "metadata": {},
     "output_type": "execute_result"
    }
   ],
   "source": [
    "df1.describe().T"
   ]
  },
  {
   "cell_type": "code",
   "execution_count": 7,
   "id": "southern-allocation",
   "metadata": {
    "ExecuteTime": {
     "end_time": "2021-03-10T23:20:02.267377Z",
     "start_time": "2021-03-10T23:20:02.259381Z"
    }
   },
   "outputs": [
    {
     "data": {
      "text/plain": [
       "(70000, 12)"
      ]
     },
     "execution_count": 7,
     "metadata": {},
     "output_type": "execute_result"
    }
   ],
   "source": [
    "df1.shape"
   ]
  },
  {
   "cell_type": "markdown",
   "id": "secure-evidence",
   "metadata": {},
   "source": [
    "# Data Cleaning"
   ]
  },
  {
   "cell_type": "markdown",
   "id": "departmental-colorado",
   "metadata": {
    "ExecuteTime": {
     "end_time": "2021-03-10T22:23:25.274141Z",
     "start_time": "2021-03-10T22:23:25.264147Z"
    }
   },
   "source": [
    "## Data Questions Based on Data Features Describe."
   ]
  },
  {
   "cell_type": "markdown",
   "id": "abroad-diversity",
   "metadata": {},
   "source": [
    "**Height:** The minimum height is 55cm and the maximum is 250 cm. Is that right? There are patients with nanism and gigantism in the dataset?"
   ]
  },
  {
   "cell_type": "code",
   "execution_count": 8,
   "id": "attempted-officer",
   "metadata": {
    "ExecuteTime": {
     "end_time": "2021-03-10T23:20:02.303353Z",
     "start_time": "2021-03-10T23:20:02.270374Z"
    }
   },
   "outputs": [
    {
     "name": "stdout",
     "output_type": "stream",
     "text": [
      "There are 92 patients with height under 130cm and 1 patient bigger than 210cm.\n",
      "It corresponds to 0.13% of the dataset.\n"
     ]
    }
   ],
   "source": [
    "# Checking if there are many height outliers and the impact of it on the entire dataset.\n",
    "\n",
    "shorter = len(df1[df1[\"height\"] < 130])\n",
    "bigger = len(df1[df1[\"height\"] > 210])\n",
    "\n",
    "print(f'There are {shorter} patients with height under 130cm'\n",
    "      f' and {bigger} patient bigger than 210cm.'\n",
    "      f'\\nIt corresponds to {round((bigger + shorter) * 100 / len(df1), 2)}% of the dataset.')"
   ]
  },
  {
   "cell_type": "code",
   "execution_count": 9,
   "id": "dense-hospital",
   "metadata": {
    "ExecuteTime": {
     "end_time": "2021-03-10T23:20:02.344329Z",
     "start_time": "2021-03-10T23:20:02.306353Z"
    }
   },
   "outputs": [],
   "source": [
    "# The patients under 130cm and bigger than 210cm will be excluded from dataset.\n",
    "\n",
    "df2 = df1[df1[\"height\"] >= 130]\n",
    "df2 = df2[df2[\"height\"] <= 210]"
   ]
  },
  {
   "cell_type": "markdown",
   "id": "municipal-enzyme",
   "metadata": {},
   "source": [
    "**Weight:** The minimum weight is 10kg and the maximum is 200kg. Is that right?patients with just 10kg?"
   ]
  },
  {
   "cell_type": "code",
   "execution_count": 11,
   "id": "mature-number",
   "metadata": {
    "ExecuteTime": {
     "end_time": "2021-03-10T23:20:02.375310Z",
     "start_time": "2021-03-10T23:20:02.365317Z"
    }
   },
   "outputs": [
    {
     "name": "stdout",
     "output_type": "stream",
     "text": [
      "There are 50 patients with weight under 40kg.\n"
     ]
    }
   ],
   "source": [
    "# Checking for outliers in the weight feature.\n",
    "\n",
    "thinner = len(df2[df2['weight'] < 40])\n",
    "print(f'There are {thinner} patients with weight under 40kg.')"
   ]
  },
  {
   "cell_type": "code",
   "execution_count": 12,
   "id": "changed-robert",
   "metadata": {
    "ExecuteTime": {
     "end_time": "2021-03-10T23:20:02.414285Z",
     "start_time": "2021-03-10T23:20:02.379308Z"
    }
   },
   "outputs": [],
   "source": [
    "# Excluding patients with less than 40kg.\n",
    "\n",
    "df2 = df2[df2['weight'] > 40]"
   ]
  },
  {
   "cell_type": "markdown",
   "id": "numerical-nowhere",
   "metadata": {},
   "source": [
    "**Blood pressure:** There are blood pressures with negative values, is that possible?\n",
    "\n",
    "- After some research I saw that it is possible to a blood pressure be negative, but in order to the low impact on the dataset, we decided to exclude them."
   ]
  },
  {
   "cell_type": "code",
   "execution_count": 13,
   "id": "linear-graphic",
   "metadata": {
    "ExecuteTime": {
     "end_time": "2021-03-10T23:20:02.461257Z",
     "start_time": "2021-03-10T23:20:02.419282Z"
    }
   },
   "outputs": [
    {
     "name": "stdout",
     "output_type": "stream",
     "text": [
      "There are 7 cases of negative ap_hi and 1 cases of negative ap_lo\n"
     ]
    }
   ],
   "source": [
    "negative_ap_hi = len(df2[df2['ap_hi'] < 0])\n",
    "negative_ap_lo = len(df2[df2['ap_lo'] < 0])\n",
    "\n",
    "print(f'There are {negative_ap_hi} cases of negative ap_hi and {negative_ap_lo} cases of negative ap_lo')"
   ]
  },
  {
   "cell_type": "code",
   "execution_count": 14,
   "id": "legislative-prescription",
   "metadata": {
    "ExecuteTime": {
     "end_time": "2021-03-10T23:20:02.497233Z",
     "start_time": "2021-03-10T23:20:02.464255Z"
    }
   },
   "outputs": [],
   "source": [
    "# The negative blood pressure cases will be excluded.\n",
    "\n",
    "df2 = (df2[df2['ap_hi'] > 0])\n",
    "df2 = (df2[df2['ap_lo'] > 0])"
   ]
  },
  {
   "cell_type": "code",
   "execution_count": 15,
   "id": "infinite-projector",
   "metadata": {
    "ExecuteTime": {
     "end_time": "2021-03-10T23:20:02.507228Z",
     "start_time": "2021-03-10T23:20:02.500232Z"
    }
   },
   "outputs": [
    {
     "name": "stdout",
     "output_type": "stream",
     "text": [
      "After the data cleaning ware excluded from the original dataset 214 rows.\n"
     ]
    }
   ],
   "source": [
    "print(f'After the data cleaning ware excluded from the original dataset {df1.shape[0] - df2.shape[0]} rows.')"
   ]
  },
  {
   "cell_type": "code",
   "execution_count": 16,
   "id": "productive-burlington",
   "metadata": {
    "ExecuteTime": {
     "end_time": "2021-03-10T23:20:02.521219Z",
     "start_time": "2021-03-10T23:20:02.511226Z"
    }
   },
   "outputs": [
    {
     "data": {
      "text/plain": [
       "(69786, 12)"
      ]
     },
     "execution_count": 16,
     "metadata": {},
     "output_type": "execute_result"
    }
   ],
   "source": [
    "df2.shape"
   ]
  },
  {
   "cell_type": "code",
   "execution_count": 17,
   "id": "attempted-purchase",
   "metadata": {
    "ExecuteTime": {
     "end_time": "2021-03-10T23:20:02.670129Z",
     "start_time": "2021-03-10T23:20:02.525216Z"
    }
   },
   "outputs": [
    {
     "data": {
      "text/html": [
       "<div>\n",
       "<style scoped>\n",
       "    .dataframe tbody tr th:only-of-type {\n",
       "        vertical-align: middle;\n",
       "    }\n",
       "\n",
       "    .dataframe tbody tr th {\n",
       "        vertical-align: top;\n",
       "    }\n",
       "\n",
       "    .dataframe thead th {\n",
       "        text-align: right;\n",
       "    }\n",
       "</style>\n",
       "<table border=\"1\" class=\"dataframe\">\n",
       "  <thead>\n",
       "    <tr style=\"text-align: right;\">\n",
       "      <th></th>\n",
       "      <th>count</th>\n",
       "      <th>mean</th>\n",
       "      <th>std</th>\n",
       "      <th>min</th>\n",
       "      <th>25%</th>\n",
       "      <th>50%</th>\n",
       "      <th>75%</th>\n",
       "      <th>max</th>\n",
       "    </tr>\n",
       "  </thead>\n",
       "  <tbody>\n",
       "    <tr>\n",
       "      <th>age</th>\n",
       "      <td>69786.0</td>\n",
       "      <td>19469.483822</td>\n",
       "      <td>2466.293106</td>\n",
       "      <td>10798.0</td>\n",
       "      <td>17666.0</td>\n",
       "      <td>19703.0</td>\n",
       "      <td>21326.0</td>\n",
       "      <td>23713.0</td>\n",
       "    </tr>\n",
       "    <tr>\n",
       "      <th>gender</th>\n",
       "      <td>69786.0</td>\n",
       "      <td>1.349784</td>\n",
       "      <td>0.476905</td>\n",
       "      <td>1.0</td>\n",
       "      <td>1.0</td>\n",
       "      <td>1.0</td>\n",
       "      <td>2.0</td>\n",
       "      <td>2.0</td>\n",
       "    </tr>\n",
       "    <tr>\n",
       "      <th>height</th>\n",
       "      <td>69786.0</td>\n",
       "      <td>164.455765</td>\n",
       "      <td>7.844900</td>\n",
       "      <td>130.0</td>\n",
       "      <td>159.0</td>\n",
       "      <td>165.0</td>\n",
       "      <td>170.0</td>\n",
       "      <td>207.0</td>\n",
       "    </tr>\n",
       "    <tr>\n",
       "      <th>weight</th>\n",
       "      <td>69786.0</td>\n",
       "      <td>74.248019</td>\n",
       "      <td>14.304075</td>\n",
       "      <td>41.0</td>\n",
       "      <td>65.0</td>\n",
       "      <td>72.0</td>\n",
       "      <td>82.0</td>\n",
       "      <td>200.0</td>\n",
       "    </tr>\n",
       "    <tr>\n",
       "      <th>ap_hi</th>\n",
       "      <td>69786.0</td>\n",
       "      <td>128.805462</td>\n",
       "      <td>154.056748</td>\n",
       "      <td>1.0</td>\n",
       "      <td>120.0</td>\n",
       "      <td>120.0</td>\n",
       "      <td>140.0</td>\n",
       "      <td>16020.0</td>\n",
       "    </tr>\n",
       "    <tr>\n",
       "      <th>ap_lo</th>\n",
       "      <td>69786.0</td>\n",
       "      <td>96.661909</td>\n",
       "      <td>188.617840</td>\n",
       "      <td>1.0</td>\n",
       "      <td>80.0</td>\n",
       "      <td>80.0</td>\n",
       "      <td>90.0</td>\n",
       "      <td>11000.0</td>\n",
       "    </tr>\n",
       "    <tr>\n",
       "      <th>cholesterol</th>\n",
       "      <td>69786.0</td>\n",
       "      <td>1.367165</td>\n",
       "      <td>0.680490</td>\n",
       "      <td>1.0</td>\n",
       "      <td>1.0</td>\n",
       "      <td>1.0</td>\n",
       "      <td>2.0</td>\n",
       "      <td>3.0</td>\n",
       "    </tr>\n",
       "    <tr>\n",
       "      <th>gluc</th>\n",
       "      <td>69786.0</td>\n",
       "      <td>1.226707</td>\n",
       "      <td>0.572547</td>\n",
       "      <td>1.0</td>\n",
       "      <td>1.0</td>\n",
       "      <td>1.0</td>\n",
       "      <td>1.0</td>\n",
       "      <td>3.0</td>\n",
       "    </tr>\n",
       "    <tr>\n",
       "      <th>smoke</th>\n",
       "      <td>69786.0</td>\n",
       "      <td>0.088213</td>\n",
       "      <td>0.283606</td>\n",
       "      <td>0.0</td>\n",
       "      <td>0.0</td>\n",
       "      <td>0.0</td>\n",
       "      <td>0.0</td>\n",
       "      <td>1.0</td>\n",
       "    </tr>\n",
       "    <tr>\n",
       "      <th>alco</th>\n",
       "      <td>69786.0</td>\n",
       "      <td>0.053822</td>\n",
       "      <td>0.225667</td>\n",
       "      <td>0.0</td>\n",
       "      <td>0.0</td>\n",
       "      <td>0.0</td>\n",
       "      <td>0.0</td>\n",
       "      <td>1.0</td>\n",
       "    </tr>\n",
       "    <tr>\n",
       "      <th>active</th>\n",
       "      <td>69786.0</td>\n",
       "      <td>0.803729</td>\n",
       "      <td>0.397179</td>\n",
       "      <td>0.0</td>\n",
       "      <td>1.0</td>\n",
       "      <td>1.0</td>\n",
       "      <td>1.0</td>\n",
       "      <td>1.0</td>\n",
       "    </tr>\n",
       "    <tr>\n",
       "      <th>cardio</th>\n",
       "      <td>69786.0</td>\n",
       "      <td>0.500000</td>\n",
       "      <td>0.500004</td>\n",
       "      <td>0.0</td>\n",
       "      <td>0.0</td>\n",
       "      <td>0.5</td>\n",
       "      <td>1.0</td>\n",
       "      <td>1.0</td>\n",
       "    </tr>\n",
       "  </tbody>\n",
       "</table>\n",
       "</div>"
      ],
      "text/plain": [
       "               count          mean          std      min      25%      50%      75%      max\n",
       "age          69786.0  19469.483822  2466.293106  10798.0  17666.0  19703.0  21326.0  23713.0\n",
       "gender       69786.0      1.349784     0.476905      1.0      1.0      1.0      2.0      2.0\n",
       "height       69786.0    164.455765     7.844900    130.0    159.0    165.0    170.0    207.0\n",
       "weight       69786.0     74.248019    14.304075     41.0     65.0     72.0     82.0    200.0\n",
       "ap_hi        69786.0    128.805462   154.056748      1.0    120.0    120.0    140.0  16020.0\n",
       "ap_lo        69786.0     96.661909   188.617840      1.0     80.0     80.0     90.0  11000.0\n",
       "cholesterol  69786.0      1.367165     0.680490      1.0      1.0      1.0      2.0      3.0\n",
       "gluc         69786.0      1.226707     0.572547      1.0      1.0      1.0      1.0      3.0\n",
       "smoke        69786.0      0.088213     0.283606      0.0      0.0      0.0      0.0      1.0\n",
       "alco         69786.0      0.053822     0.225667      0.0      0.0      0.0      0.0      1.0\n",
       "active       69786.0      0.803729     0.397179      0.0      1.0      1.0      1.0      1.0\n",
       "cardio       69786.0      0.500000     0.500004      0.0      0.0      0.5      1.0      1.0"
      ]
     },
     "execution_count": 17,
     "metadata": {},
     "output_type": "execute_result"
    }
   ],
   "source": [
    "df2.describe().T "
   ]
  },
  {
   "cell_type": "markdown",
   "id": "accurate-rendering",
   "metadata": {
    "ExecuteTime": {
     "end_time": "2021-03-10T22:20:35.418615Z",
     "start_time": "2021-03-10T22:20:35.375643Z"
    }
   },
   "source": [
    "# Data Transformation"
   ]
  },
  {
   "cell_type": "code",
   "execution_count": 18,
   "id": "empirical-gabriel",
   "metadata": {
    "ExecuteTime": {
     "end_time": "2021-03-10T23:20:02.688118Z",
     "start_time": "2021-03-10T23:20:02.678122Z"
    }
   },
   "outputs": [],
   "source": [
    "df3 = df2.copy()"
   ]
  },
  {
   "cell_type": "markdown",
   "id": "military-falls",
   "metadata": {},
   "source": [
    "## Features Transformation"
   ]
  },
  {
   "cell_type": "code",
   "execution_count": 19,
   "id": "located-river",
   "metadata": {
    "ExecuteTime": {
     "end_time": "2021-03-10T23:20:02.772066Z",
     "start_time": "2021-03-10T23:20:02.691115Z"
    }
   },
   "outputs": [],
   "source": [
    "# Transforming age from days to years\n",
    "\n",
    "df3['age'] = df3['age'].apply(lambda x: int(x/365))"
   ]
  },
  {
   "cell_type": "code",
   "execution_count": 20,
   "id": "concerned-memory",
   "metadata": {
    "ExecuteTime": {
     "end_time": "2021-03-10T23:20:02.929969Z",
     "start_time": "2021-03-10T23:20:02.774064Z"
    }
   },
   "outputs": [
    {
     "data": {
      "text/html": [
       "<div>\n",
       "<style scoped>\n",
       "    .dataframe tbody tr th:only-of-type {\n",
       "        vertical-align: middle;\n",
       "    }\n",
       "\n",
       "    .dataframe tbody tr th {\n",
       "        vertical-align: top;\n",
       "    }\n",
       "\n",
       "    .dataframe thead th {\n",
       "        text-align: right;\n",
       "    }\n",
       "</style>\n",
       "<table border=\"1\" class=\"dataframe\">\n",
       "  <thead>\n",
       "    <tr style=\"text-align: right;\">\n",
       "      <th></th>\n",
       "      <th>count</th>\n",
       "      <th>mean</th>\n",
       "      <th>std</th>\n",
       "      <th>min</th>\n",
       "      <th>25%</th>\n",
       "      <th>50%</th>\n",
       "      <th>75%</th>\n",
       "      <th>max</th>\n",
       "    </tr>\n",
       "  </thead>\n",
       "  <tbody>\n",
       "    <tr>\n",
       "      <th>age</th>\n",
       "      <td>69786.0</td>\n",
       "      <td>52.842304</td>\n",
       "      <td>6.764156</td>\n",
       "      <td>29.0</td>\n",
       "      <td>48.0</td>\n",
       "      <td>53.0</td>\n",
       "      <td>58.0</td>\n",
       "      <td>64.0</td>\n",
       "    </tr>\n",
       "    <tr>\n",
       "      <th>gender</th>\n",
       "      <td>69786.0</td>\n",
       "      <td>1.349784</td>\n",
       "      <td>0.476905</td>\n",
       "      <td>1.0</td>\n",
       "      <td>1.0</td>\n",
       "      <td>1.0</td>\n",
       "      <td>2.0</td>\n",
       "      <td>2.0</td>\n",
       "    </tr>\n",
       "    <tr>\n",
       "      <th>height</th>\n",
       "      <td>69786.0</td>\n",
       "      <td>164.455765</td>\n",
       "      <td>7.844900</td>\n",
       "      <td>130.0</td>\n",
       "      <td>159.0</td>\n",
       "      <td>165.0</td>\n",
       "      <td>170.0</td>\n",
       "      <td>207.0</td>\n",
       "    </tr>\n",
       "    <tr>\n",
       "      <th>weight</th>\n",
       "      <td>69786.0</td>\n",
       "      <td>74.248019</td>\n",
       "      <td>14.304075</td>\n",
       "      <td>41.0</td>\n",
       "      <td>65.0</td>\n",
       "      <td>72.0</td>\n",
       "      <td>82.0</td>\n",
       "      <td>200.0</td>\n",
       "    </tr>\n",
       "    <tr>\n",
       "      <th>ap_hi</th>\n",
       "      <td>69786.0</td>\n",
       "      <td>128.805462</td>\n",
       "      <td>154.056748</td>\n",
       "      <td>1.0</td>\n",
       "      <td>120.0</td>\n",
       "      <td>120.0</td>\n",
       "      <td>140.0</td>\n",
       "      <td>16020.0</td>\n",
       "    </tr>\n",
       "    <tr>\n",
       "      <th>ap_lo</th>\n",
       "      <td>69786.0</td>\n",
       "      <td>96.661909</td>\n",
       "      <td>188.617840</td>\n",
       "      <td>1.0</td>\n",
       "      <td>80.0</td>\n",
       "      <td>80.0</td>\n",
       "      <td>90.0</td>\n",
       "      <td>11000.0</td>\n",
       "    </tr>\n",
       "    <tr>\n",
       "      <th>cholesterol</th>\n",
       "      <td>69786.0</td>\n",
       "      <td>1.367165</td>\n",
       "      <td>0.680490</td>\n",
       "      <td>1.0</td>\n",
       "      <td>1.0</td>\n",
       "      <td>1.0</td>\n",
       "      <td>2.0</td>\n",
       "      <td>3.0</td>\n",
       "    </tr>\n",
       "    <tr>\n",
       "      <th>gluc</th>\n",
       "      <td>69786.0</td>\n",
       "      <td>1.226707</td>\n",
       "      <td>0.572547</td>\n",
       "      <td>1.0</td>\n",
       "      <td>1.0</td>\n",
       "      <td>1.0</td>\n",
       "      <td>1.0</td>\n",
       "      <td>3.0</td>\n",
       "    </tr>\n",
       "    <tr>\n",
       "      <th>smoke</th>\n",
       "      <td>69786.0</td>\n",
       "      <td>0.088213</td>\n",
       "      <td>0.283606</td>\n",
       "      <td>0.0</td>\n",
       "      <td>0.0</td>\n",
       "      <td>0.0</td>\n",
       "      <td>0.0</td>\n",
       "      <td>1.0</td>\n",
       "    </tr>\n",
       "    <tr>\n",
       "      <th>alco</th>\n",
       "      <td>69786.0</td>\n",
       "      <td>0.053822</td>\n",
       "      <td>0.225667</td>\n",
       "      <td>0.0</td>\n",
       "      <td>0.0</td>\n",
       "      <td>0.0</td>\n",
       "      <td>0.0</td>\n",
       "      <td>1.0</td>\n",
       "    </tr>\n",
       "    <tr>\n",
       "      <th>active</th>\n",
       "      <td>69786.0</td>\n",
       "      <td>0.803729</td>\n",
       "      <td>0.397179</td>\n",
       "      <td>0.0</td>\n",
       "      <td>1.0</td>\n",
       "      <td>1.0</td>\n",
       "      <td>1.0</td>\n",
       "      <td>1.0</td>\n",
       "    </tr>\n",
       "    <tr>\n",
       "      <th>cardio</th>\n",
       "      <td>69786.0</td>\n",
       "      <td>0.500000</td>\n",
       "      <td>0.500004</td>\n",
       "      <td>0.0</td>\n",
       "      <td>0.0</td>\n",
       "      <td>0.5</td>\n",
       "      <td>1.0</td>\n",
       "      <td>1.0</td>\n",
       "    </tr>\n",
       "  </tbody>\n",
       "</table>\n",
       "</div>"
      ],
      "text/plain": [
       "               count        mean         std    min    25%    50%    75%      max\n",
       "age          69786.0   52.842304    6.764156   29.0   48.0   53.0   58.0     64.0\n",
       "gender       69786.0    1.349784    0.476905    1.0    1.0    1.0    2.0      2.0\n",
       "height       69786.0  164.455765    7.844900  130.0  159.0  165.0  170.0    207.0\n",
       "weight       69786.0   74.248019   14.304075   41.0   65.0   72.0   82.0    200.0\n",
       "ap_hi        69786.0  128.805462  154.056748    1.0  120.0  120.0  140.0  16020.0\n",
       "ap_lo        69786.0   96.661909  188.617840    1.0   80.0   80.0   90.0  11000.0\n",
       "cholesterol  69786.0    1.367165    0.680490    1.0    1.0    1.0    2.0      3.0\n",
       "gluc         69786.0    1.226707    0.572547    1.0    1.0    1.0    1.0      3.0\n",
       "smoke        69786.0    0.088213    0.283606    0.0    0.0    0.0    0.0      1.0\n",
       "alco         69786.0    0.053822    0.225667    0.0    0.0    0.0    0.0      1.0\n",
       "active       69786.0    0.803729    0.397179    0.0    1.0    1.0    1.0      1.0\n",
       "cardio       69786.0    0.500000    0.500004    0.0    0.0    0.5    1.0      1.0"
      ]
     },
     "execution_count": 20,
     "metadata": {},
     "output_type": "execute_result"
    }
   ],
   "source": [
    "df3.describe().T"
   ]
  },
  {
   "cell_type": "code",
   "execution_count": null,
   "id": "aging-tuner",
   "metadata": {},
   "outputs": [],
   "source": []
  },
  {
   "cell_type": "code",
   "execution_count": null,
   "id": "armed-complaint",
   "metadata": {},
   "outputs": [],
   "source": []
  },
  {
   "cell_type": "code",
   "execution_count": null,
   "id": "extraordinary-webcam",
   "metadata": {},
   "outputs": [],
   "source": []
  },
  {
   "cell_type": "code",
   "execution_count": null,
   "id": "knowing-tradition",
   "metadata": {},
   "outputs": [],
   "source": []
  }
 ],
 "metadata": {
  "kernelspec": {
   "display_name": "Python 3",
   "language": "python",
   "name": "python3"
  },
  "language_info": {
   "codemirror_mode": {
    "name": "ipython",
    "version": 3
   },
   "file_extension": ".py",
   "mimetype": "text/x-python",
   "name": "python",
   "nbconvert_exporter": "python",
   "pygments_lexer": "ipython3",
   "version": "3.8.8"
  },
  "toc": {
   "base_numbering": 1,
   "nav_menu": {},
   "number_sections": true,
   "sideBar": true,
   "skip_h1_title": false,
   "title_cell": "Table of Contents",
   "title_sidebar": "Contents",
   "toc_cell": false,
   "toc_position": {},
   "toc_section_display": true,
   "toc_window_display": false
  }
 },
 "nbformat": 4,
 "nbformat_minor": 5
}
